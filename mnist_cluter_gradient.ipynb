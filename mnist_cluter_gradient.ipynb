{
 "cells": [
  {
   "cell_type": "code",
   "execution_count": 1,
   "metadata": {
    "collapsed": true
   },
   "outputs": [],
   "source": [
    "import matplotlib\n",
    "matplotlib.use('Agg')\n",
    "\n",
    "%matplotlib inline\n",
    "from matplotlib import pyplot as plt\n",
    "\n"
   ]
  },
  {
   "cell_type": "code",
   "execution_count": 2,
   "metadata": {
    "collapsed": true
   },
   "outputs": [],
   "source": [
    "from __future__ import absolute_import\n",
    "from __future__ import division\n",
    "from __future__ import print_function\n",
    "import numpy as np\n",
    "import argparse\n",
    "import sys\n",
    "\n",
    "from tensorflow.examples.tutorials.mnist import input_data\n",
    "\n",
    "\n",
    "FLAGS = None\n",
    "\n"
   ]
  },
  {
   "cell_type": "code",
   "execution_count": 7,
   "metadata": {},
   "outputs": [
    {
     "name": "stdout",
     "output_type": "stream",
     "text": [
      "Extracting /tmp/tensorflow/mnist/input_data/train-images-idx3-ubyte.gz\n",
      "Extracting /tmp/tensorflow/mnist/input_data/train-labels-idx1-ubyte.gz\n",
      "Extracting /tmp/tensorflow/mnist/input_data/t10k-images-idx3-ubyte.gz\n",
      "Extracting /tmp/tensorflow/mnist/input_data/t10k-labels-idx1-ubyte.gz\n"
     ]
    }
   ],
   "source": [
    "import tensorflow as tf\n",
    "from tensorflow.examples.tutorials.mnist import input_data\n",
    "FLAGS = None\n",
    "\n",
    "\n",
    "mnist = input_data.read_data_sets(\"/tmp/tensorflow/mnist/input_data\", one_hot=True)\n",
    "\n"
   ]
  },
  {
   "cell_type": "markdown",
   "metadata": {},
   "source": [
    "the following is code for normal GD"
   ]
  },
  {
   "cell_type": "code",
   "execution_count": 3,
   "metadata": {
    "collapsed": true
   },
   "outputs": [],
   "source": [
    "\n",
    "class clusterdTrain(object):\n",
    "\t\"\"\"docstring for train\"\"\"\n",
    "\n",
    "\tdef __init__(self, images=None, labels = None):\n",
    "\t\tsuper(clusterdTrain, self).__init__()\n",
    "\t\tif images is None or labels is None:\n",
    "\t\t\tfinal_ind = np.load(\"final_ind_cluster.npy\")\n",
    "\t\t\tself.images = np.load(\"minstImage.npy\")[final_ind]\n",
    "\t\t\tself.labels = np.load(\"minstLabels.npy\")[final_ind]\n",
    "\t\telse:\n",
    "\t\t\tself.images = images\n",
    "\t\t\tself.labels = labels\n",
    "\t\tself.length = len(self.images)\n",
    "\t\tself.curPos = 0\n",
    "\t\tself.epoch = 0\n",
    "\tdef next_batch(self, size):\n",
    "\t\tself.curPos += size\n",
    "\t\tif self.curPos > self.length:\n",
    "\t\t\tself.epoch += 1\n",
    "\t\t\tself.curPos = size \n",
    "\t\treturn [self.images[self.curPos - size:self.curPos], \\\n",
    "\t\t\t\tself.labels[self.curPos - size:self.curPos]]\n",
    "\n",
    "\n",
    "\n",
    "\n",
    "def Grad(Train,R=6000,B=20):\n",
    "    x = tf.placeholder(tf.float32, [None, 784])\n",
    "    W = tf.Variable(tf.zeros([784, 10]))\n",
    "    b = tf.Variable(tf.zeros([10]))\n",
    "    y = tf.matmul(x, W) + b\n",
    "\n",
    "    # Define loss and optimizer\n",
    "    y_ = tf.placeholder(tf.float32, [None, 10])\n",
    "\n",
    "    # The raw formulation of cross-entropy,\n",
    "    #\n",
    "    #   tf.reduce_mean(-tf.reduce_sum(y_ * tf.log(tf.nn.softmax(y)),\n",
    "    #                                 reduction_indices=[1]))\n",
    "    #\n",
    "    # can be numerically unstable.\n",
    "    #\n",
    "    # So here we use tf.nn.softmax_cross_entropy_with_logits on the raw\n",
    "    # outputs of 'y', and then average across the batch.\n",
    "    cross_entropy = tf.reduce_mean(tf.nn.softmax_cross_entropy_with_logits(labels=y_, logits=y))\n",
    "    train_step = tf.train.GradientDescentOptimizer(0.5).minimize(cross_entropy)\n",
    "    correct_prediction = tf.equal(tf.argmax(y, 1), tf.argmax(y_, 1))\n",
    "    accuracy = tf.reduce_mean(tf.cast(correct_prediction, tf.float32))\n",
    "\n",
    "    sess = tf.InteractiveSession()\n",
    "    tf.global_variables_initializer().run()\n",
    "    # Train\n",
    "    loss= 10\n",
    "    acc = 0\n",
    "    ploss = False\n",
    "    ploss = True\n",
    "    loss_list_normal=[]\n",
    "    acc_list = []\n",
    "    for i in range(R):\n",
    "        batch_xs, batch_ys = Train.next_batch(B)\n",
    "\n",
    "\n",
    "        if ploss:\n",
    "            _, loss, acc = sess.run([train_step,cross_entropy,accuracy], feed_dict={x: batch_xs, y_: batch_ys})\n",
    "        else:\n",
    "            sess.run(train_step, feed_dict={x: batch_xs, y_: batch_ys})\n",
    "        if i % 1 ==0:\n",
    "    #         print (i, loss)\n",
    "            loss_list_normal.append(loss)\n",
    "            acc_list.append(acc)\n",
    "    # Test trained model\n",
    "\n",
    "    print(sess.run(accuracy, feed_dict={x: mnist.test.images,\n",
    "                                      y_: mnist.test.labels}))\n",
    "    return loss_list_normal,acc_list"
   ]
  },
  {
   "cell_type": "code",
   "execution_count": 4,
   "metadata": {
    "collapsed": true
   },
   "outputs": [],
   "source": [
    "def weight_variable(shape):\n",
    "    initial = tf.truncated_normal(shape, stddev=0.1)\n",
    "    return tf.Variable(initial)\n",
    "\n",
    "def bias_variable(shape):\n",
    "    initial = tf.constant(0.1, shape=shape)\n",
    "    return tf.Variable(initial)\n",
    "\n",
    "def conv2d(x, W):\n",
    "    return tf.nn.conv2d(x, W, strides=[1, 1, 1, 1], padding='SAME')\n",
    "\n",
    "def max_pool_2x2(x):\n",
    "    return tf.nn.max_pool(x, ksize=[1, 2, 2, 1],\n",
    "                            strides=[1, 2, 2, 1], padding='SAME')\n",
    "\n",
    "\n",
    "\n",
    "def deepGrad(Train,R=6000,B=20):\n",
    "    x = tf.placeholder(tf.float32, [None, 784])\n",
    "    W_conv1 = weight_variable([5, 5, 1, 4])\n",
    "    b_conv1 = bias_variable([4])\n",
    "    x_image = tf.reshape(x, [-1,28,28,1])\n",
    "    h_conv1 = tf.nn.relu(conv2d(x_image, W_conv1) + b_conv1)\n",
    "    h_pool1 = max_pool_2x2(h_conv1)\n",
    "\n",
    "    \n",
    "    W_conv2 = weight_variable([5, 5, 4, 8])\n",
    "    b_conv2 = bias_variable([8])\n",
    "    h_conv2 = tf.nn.relu(conv2d(h_pool1, W_conv2) + b_conv2)\n",
    "    h_pool2 = max_pool_2x2(h_conv2)\n",
    "    \n",
    "    W_fc1 = weight_variable([7 * 7 * 8, 128])\n",
    "    b_fc1 = bias_variable([128])\n",
    "    h_pool2_flat = tf.reshape(h_pool2, [-1, 7*7*8])\n",
    "    h_fc1 = tf.nn.relu(tf.matmul(h_pool2_flat, W_fc1) + b_fc1)\n",
    "    keep_prob = tf.placeholder(tf.float32)\n",
    "    h_fc1_drop = tf.nn.dropout(h_fc1, keep_prob)\n",
    "    W_fc2 = weight_variable([128, 10])\n",
    "    b_fc2 = bias_variable([10])\n",
    "    y_conv = tf.matmul(h_fc1_drop, W_fc2) + b_fc2\n",
    "    \n",
    "    \n",
    "    \n",
    "    \n",
    "    \n",
    "    \n",
    "\n",
    "#     W = tf.Variable(tf.zeros([784, 10]))\n",
    "#     b = tf.Variable(tf.zeros([10]))\n",
    "#     y = tf.matmul(x, W) + b\n",
    "\n",
    "    # Define loss and optimizer\n",
    "    y_ = tf.placeholder(tf.float32, [None, 10])\n",
    "    \n",
    "    cross_entropy = tf.reduce_mean(\n",
    "        tf.nn.softmax_cross_entropy_with_logits(labels=y_, logits=y_conv))\n",
    "    train_step = tf.train.AdamOptimizer(1e-4).minimize(cross_entropy)\n",
    "    correct_prediction = tf.equal(tf.argmax(y_conv,1), tf.argmax(y_,1))\n",
    "    accuracy = tf.reduce_mean(tf.cast(correct_prediction, tf.float32))\n",
    "    sess = tf.InteractiveSession()\n",
    "    tf.global_variables_initializer().run()\n",
    "    \n",
    "    \n",
    "    loss = 10 \n",
    "    acc = 0\n",
    "    ploss = True\n",
    "#     ploss = False\n",
    "    loss_list=[]\n",
    "    acc_list = []\n",
    "    for i in range(R):\n",
    "        batch = Train.next_batch(B)\n",
    "        if i%1 == 0:\n",
    "            print (i)\n",
    "            test_accuracy = accuracy.eval(feed_dict={\n",
    "                x:mnist.test.images, y_: mnist.test.labels, keep_prob: 1.0})\n",
    "            train_loss = cross_entropy.eval(feed_dict={x:batch[0],y_:batch[1],keep_prob: 1.0})\n",
    "            acc_list.append(test_accuracy)\n",
    "            loss_list.append(train_loss)\n",
    "            \n",
    "        train_step.run(feed_dict={x: batch[0], y_: batch[1], keep_prob: 0.5})\n",
    "\n",
    "    print(\"test accuracy %g\"%accuracy.eval(feed_dict={\n",
    "            x: mnist.test.images, y_: mnist.test.labels, keep_prob: 1.0}))    \n",
    "    return loss_list,acc_list"
   ]
  },
  {
   "cell_type": "code",
   "execution_count": 5,
   "metadata": {
    "collapsed": true
   },
   "outputs": [],
   "source": [
    "images = np.load(\"minstImage.npy\")\n",
    "labels = np.load(\"minstLabels.npy\")\n",
    "final_ind = np.load(\"final_ind_cluster.npy\")\n",
    "final_labels  = labels[final_ind]\n",
    "final_images = images[final_ind]\n",
    "clusteredData = clusterdTrain(final_images,final_labels)"
   ]
  },
  {
   "cell_type": "code",
   "execution_count": 9,
   "metadata": {
    "scrolled": true
   },
   "outputs": [
    {
     "name": "stdout",
     "output_type": "stream",
     "text": [
      "0\n",
      "1\n",
      "2\n",
      "3\n",
      "4\n",
      "5\n",
      "6\n",
      "7\n",
      "8\n",
      "9\n",
      "10\n",
      "11\n",
      "12\n",
      "13\n",
      "14\n",
      "15\n",
      "16\n",
      "17\n",
      "18\n",
      "19\n",
      "20\n",
      "21\n",
      "22\n",
      "23\n",
      "24\n",
      "25\n",
      "26\n",
      "27\n",
      "28\n",
      "29\n",
      "30\n",
      "31\n",
      "32\n",
      "33\n",
      "34\n",
      "35\n",
      "36\n",
      "37\n",
      "38\n",
      "39\n",
      "40\n",
      "41\n",
      "42\n",
      "43\n",
      "44\n",
      "45\n",
      "46\n",
      "47\n",
      "48\n",
      "49\n",
      "50\n",
      "51\n",
      "52\n",
      "53\n",
      "54\n",
      "55\n",
      "56\n",
      "57\n",
      "58\n",
      "59\n",
      "60\n",
      "61\n",
      "62\n",
      "63\n",
      "64\n",
      "65\n",
      "66\n",
      "67\n",
      "68\n",
      "69\n",
      "70\n",
      "71\n",
      "72\n",
      "73\n",
      "74\n",
      "75\n",
      "76\n",
      "77\n",
      "78\n",
      "79\n",
      "80\n",
      "81\n",
      "82\n",
      "83\n",
      "84\n",
      "85\n",
      "86\n",
      "87\n",
      "88\n",
      "89\n",
      "90\n",
      "91\n",
      "92\n",
      "93\n",
      "94\n",
      "95\n",
      "96\n",
      "97\n",
      "98\n",
      "99\n",
      "test accuracy 0.2274\n",
      "0\n",
      "1\n",
      "2\n",
      "3\n",
      "4\n",
      "5\n",
      "6\n",
      "7\n",
      "8\n",
      "9\n",
      "10\n",
      "11\n",
      "12\n",
      "13\n",
      "14\n",
      "15\n",
      "16\n",
      "17\n",
      "18\n",
      "19\n",
      "20\n",
      "21\n",
      "22\n",
      "23\n",
      "24\n",
      "25\n",
      "26\n",
      "27\n",
      "28\n",
      "29\n",
      "30\n",
      "31\n",
      "32\n",
      "33\n",
      "34\n",
      "35\n",
      "36\n",
      "37\n",
      "38\n",
      "39\n",
      "40\n",
      "41\n",
      "42\n",
      "43\n",
      "44\n",
      "45\n",
      "46\n",
      "47\n",
      "48\n",
      "49\n",
      "50\n",
      "51\n",
      "52\n",
      "53\n",
      "54\n",
      "55\n",
      "56\n",
      "57\n",
      "58\n",
      "59\n",
      "60\n",
      "61\n",
      "62\n",
      "63\n",
      "64\n",
      "65\n",
      "66\n",
      "67\n",
      "68\n",
      "69\n",
      "70\n",
      "71\n",
      "72\n",
      "73\n",
      "74\n",
      "75\n",
      "76\n",
      "77\n",
      "78\n",
      "79\n",
      "80\n",
      "81\n",
      "82\n",
      "83\n",
      "84\n",
      "85\n",
      "86\n",
      "87\n",
      "88\n",
      "89\n",
      "90\n",
      "91\n",
      "92\n",
      "93\n",
      "94\n",
      "95\n",
      "96\n",
      "97\n",
      "98\n",
      "99\n",
      "test accuracy 0.3005\n"
     ]
    },
    {
     "data": {
      "image/png": "[encoded data removed]",
      "text/plain": [
       "<matplotlib.figure.Figure at 0x7f9b687ae1d0>"
      ]
     },
     "metadata": {},
     "output_type": "display_data"
    }
   ],
   "source": [
    "R=100\n",
    "B=20\n",
    "loss_list_normal,acc_list_normal = deepGrad(mnist.train,R,B)\n",
    "loss_list_clus,acc_list_clus = deepGrad(clusteredData,R,B)\n",
    "\n",
    "np.save(\"loss_list_normal_R_\"+str(R)+\"_B_\"+str(B),loss_list_normal)\n",
    "\n",
    "np.save(\"acc_list_normal_R_\"+str(R)+\"_B_\"+str(B),acc_list_normal)\n",
    "\n",
    "np.save(\"loss_list_clus_R_\"+str(R)+\"_B_\"+str(B),loss_list_clus)\n",
    "\n",
    "np.save(\"acc_list_clus_R_\"+str(R)+\"_B_\"+str(B),acc_list_clus)\n",
    "\n",
    "\n",
    "plt.plot(loss_list_clus,label = \"clus_loss\")\n",
    "plt.plot(acc_list_clus, label = \"clus_acc\")\n",
    "plt.plot(loss_list_normal, label = \"normal_loss\")\n",
    "plt.plot(acc_list_normal, label= \"normal_acc\")\n",
    "plt.legend()\n",
    "plt.savefig('deep_cmpGradient_'+str(R)+'_'+str(B)+'.png')"
   ]
  },
  {
   "cell_type": "code",
   "execution_count": 11,
   "metadata": {},
   "outputs": [
    {
     "ename": "NameError",
     "evalue": "name 'start' is not defined",
     "output_type": "error",
     "traceback": [
      "\u001b[0;31m\u001b[0m",
      "\u001b[0;31mNameError\u001b[0mTraceback (most recent call last)",
      "\u001b[0;32m<ipython-input-11-889e0d734340>\u001b[0m in \u001b[0;36m<module>\u001b[0;34m()\u001b[0m\n\u001b[0;32m----> 1\u001b[0;31m \u001b[0mstart\u001b[0m\u001b[0;34m\u001b[0m\u001b[0m\n\u001b[0m",
      "\u001b[0;31mNameError\u001b[0m: name 'start' is not defined"
     ]
    }
   ],
   "source": []
  },
  {
   "cell_type": "code",
   "execution_count": 129,
   "metadata": {},
   "outputs": [
    {
     "data": {
      "image/png": "[encoded data removed]",
      "text/plain": [
       "<matplotlib.figure.Figure at 0x1543e8b10>"
      ]
     },
     "metadata": {},
     "output_type": "display_data"
    }
   ],
   "source": [
    "start=350\n",
    "end  = 500\n",
    "# plt.plot(loss_list_clus[start:end],label = \"clus_loss\")\n",
    "plt.plot(acc_list_clus[start:end], label = \"clus_acc\")\n",
    "# plt.plot(loss_list_normal[start:end], label = \"normal_loss\")\n",
    "plt.plot(acc_list_normal[start:end], label= \"normal_acc\")\n",
    "plt.legend()\n",
    "plt.savefig('deep_cmpGradient_'+str(R)+'_'+str(B)+'.png')"
   ]
  },
  {
   "cell_type": "code",
   "execution_count": 8,
   "metadata": {},
   "outputs": [
    {
     "name": "stdout",
     "output_type": "stream",
     "text": [
      "0\n",
      "1\n",
      "2\n",
      "3\n",
      "4\n",
      "5\n",
      "6\n",
      "7\n",
      "8\n",
      "9\n",
      "10\n",
      "11\n",
      "12\n",
      "13\n",
      "14\n",
      "15\n",
      "16\n",
      "17\n",
      "18\n",
      "19\n",
      "20\n",
      "21\n",
      "22\n",
      "23\n",
      "24\n",
      "25\n",
      "26\n",
      "27\n",
      "28\n",
      "29\n",
      "30\n",
      "31\n",
      "32\n",
      "33\n",
      "34\n",
      "35\n",
      "36\n",
      "37\n",
      "38\n",
      "39\n",
      "test accuracy 0.1422\n"
     ]
    },
    {
     "data": {
      "image/png": "[encoded data removed]",
      "text/plain": [
       "<matplotlib.figure.Figure at 0x7f721cfa8390>"
      ]
     },
     "metadata": {},
     "output_type": "display_data"
    }
   ],
   "source": [
    "R=40\n",
    "B=20\n",
    "loss_list_clus,acc_list_clus = deepGrad(clusteredData,R,B)\n",
    "plt.plot(loss_list_normal)\n",
    "plt.plot(acc_list_normal)\n",
    "plt.savefig('deep_normalGradient_'+str(R)+'_'+str(B)+'.png')"
   ]
  },
  {
   "cell_type": "code",
   "execution_count": 91,
   "metadata": {},
   "outputs": [
    {
     "name": "stdout",
     "output_type": "stream",
     "text": [
      "0.7191\n",
      "0.8469\n"
     ]
    }
   ],
   "source": [
    "R=200\n",
    "B=10\n",
    "loss_list_normal,acc_list_normal = Grad(mnist.train,R,B)\n",
    "loss_list_clustered,acc_list_clustered = Grad(clusteredData,R,B)\n",
    "\n"
   ]
  },
  {
   "cell_type": "code",
   "execution_count": 93,
   "metadata": {},
   "outputs": [
    {
     "name": "stdout",
     "output_type": "stream",
     "text": [
      "for batch size 10\n",
      "........\n",
      "clustered\n",
      "min value of loss 0.0534529\n",
      "var of loss 0.21062\n",
      "mean of loss 0.713406\n",
      "........\n",
      "normal\n",
      "min value of loss 0.0207945\n",
      "var of loss 0.619472\n",
      "mean of loss 0.904697\n",
      ".................\n",
      "compare\n",
      "variance of clustered - variance of normal -0.408852\n"
     ]
    },
    {
     "data": {
      "image/png": "[encoded data removed]",
      "text/plain": [
       "<matplotlib.figure.Figure at 0x11ec28990>"
      ]
     },
     "metadata": {},
     "output_type": "display_data"
    }
   ],
   "source": [
    "\n",
    "# nplot = plt.plot(loss_list_normal,label = \"normal_loss\")\n",
    "# cplot = plt.plot(loss_list_clustered,label = \"clustered_loss\")\n",
    "plt.plot(acc_list_normal[:50],label = \"normal_acc\")\n",
    "plt.plot(acc_list_clustered[:50], label = \"clustered_acc\")\n",
    "\n",
    "\n",
    "\n",
    "plt.legend()\n",
    "plt.savefig('CompGradient_'+str(R)+'_'+str(B)+'.png')\n",
    "\n",
    "\n",
    "print (\"for batch size\",B)\n",
    "print (\"........\")\n",
    "print (\"clustered\")\n",
    "print (\"min value of loss\",np.min(loss_list_clustered))\n",
    "cluster_var  = np.var(loss_list_clustered)\n",
    "print (\"var of loss\",cluster_var)\n",
    "print (\"mean of loss\",np.mean(loss_list_clustered))\n",
    "print (\"........\")\n",
    "print (\"normal\")\n",
    "print (\"min value of loss\",np.min(loss_list_normal))\n",
    "normal_var = np.var(loss_list_normal)\n",
    "print (\"var of loss\",normal_var)\n",
    "print (\"mean of loss\",np.mean(loss_list_normal))\n",
    "print (\".................\")\n",
    "\n",
    "print (\"compare\")\n",
    "print (\"variance of clustered - variance of normal\",cluster_var - normal_var)"
   ]
  },
  {
   "cell_type": "markdown",
   "metadata": {},
   "source": [
    "the following is for clustered GD"
   ]
  },
  {
   "cell_type": "code",
   "execution_count": 68,
   "metadata": {},
   "outputs": [
    {
     "name": "stdout",
     "output_type": "stream",
     "text": [
      "clustered\n",
      "0.517321\n",
      "0.167033\n",
      "normal\n",
      "0.467159\n",
      "0.193944\n"
     ]
    }
   ],
   "source": [
    "print (\"clustered\")\n",
    "print (np.min(loss_list_clustered))\n",
    "print (np.var(loss_list_clustered))\n",
    "print (\"normal\")\n",
    "print (np.min(loss_list_normal))\n",
    "print (np.var(loss_list_normal))"
   ]
  },
  {
   "cell_type": "code",
   "execution_count": null,
   "metadata": {
    "collapsed": true
   },
   "outputs": [],
   "source": []
  },
  {
   "cell_type": "code",
   "execution_count": 162,
   "metadata": {},
   "outputs": [
    {
     "data": {
      "text/plain": [
       "[array([[ 0.,  0.,  0., ...,  0.,  0.,  0.],\n",
       "        [ 0.,  0.,  0., ...,  0.,  0.,  0.],\n",
       "        [ 0.,  0.,  0., ...,  0.,  0.,  0.],\n",
       "        ..., \n",
       "        [ 0.,  0.,  0., ...,  0.,  0.,  0.],\n",
       "        [ 0.,  0.,  0., ...,  0.,  0.,  0.],\n",
       "        [ 0.,  0.,  0., ...,  0.,  0.,  0.]], dtype=float32),\n",
       " array([[ 1.,  0.,  0.,  0.,  0.,  0.,  0.,  0.,  0.,  0.],\n",
       "        [ 0.,  1.,  0.,  0.,  0.,  0.,  0.,  0.,  0.,  0.],\n",
       "        [ 0.,  0.,  1.,  0.,  0.,  0.,  0.,  0.,  0.,  0.],\n",
       "        [ 0.,  0.,  0.,  1.,  0.,  0.,  0.,  0.,  0.,  0.],\n",
       "        [ 0.,  0.,  0.,  0.,  1.,  0.,  0.,  0.,  0.,  0.],\n",
       "        [ 0.,  0.,  0.,  0.,  0.,  1.,  0.,  0.,  0.,  0.],\n",
       "        [ 0.,  0.,  0.,  0.,  0.,  0.,  1.,  0.,  0.,  0.],\n",
       "        [ 0.,  0.,  0.,  0.,  0.,  0.,  0.,  1.,  0.,  0.],\n",
       "        [ 0.,  0.,  0.,  0.,  0.,  0.,  0.,  0.,  1.,  0.],\n",
       "        [ 0.,  0.,  0.,  0.,  0.,  0.,  0.,  0.,  0.,  1.]])]"
      ]
     },
     "execution_count": 162,
     "metadata": {},
     "output_type": "execute_result"
    }
   ],
   "source": [
    "clusteredData.next_batch(10)"
   ]
  },
  {
   "cell_type": "code",
   "execution_count": null,
   "metadata": {
    "collapsed": true
   },
   "outputs": [],
   "source": [
    "mnist.train.images"
   ]
  },
  {
   "cell_type": "code",
   "execution_count": 4,
   "metadata": {
    "collapsed": true
   },
   "outputs": [],
   "source": [
    "?np.save"
   ]
  },
  {
   "cell_type": "code",
   "execution_count": null,
   "metadata": {
    "collapsed": true
   },
   "outputs": [],
   "source": [
    "final_ind = range(len(filtered_ind))\n",
    "for i in range(4987):\n",
    "    for j in range(10):\n",
    "        final_ind[i*10+j] = filtered_ind[4987*j+i]"
   ]
  },
  {
   "cell_type": "code",
   "execution_count": 6,
   "metadata": {
    "collapsed": true
   },
   "outputs": [],
   "source": [
    "acc_list_clus = np.load(\"loss_list_normal_R_1500_B_30.npy\")\n",
    "acc_list_normal = np.load(\"loss_list_normal_R_1500_B_30.npy\")"
   ]
  },
  {
   "cell_type": "code",
   "execution_count": 11,
   "metadata": {},
   "outputs": [
    {
     "data": {
      "image/png": "[encoded data removed]",
      "text/plain": [
       "<matplotlib.figure.Figure at 0x10df43450>"
      ]
     },
     "metadata": {},
     "output_type": "display_data"
    }
   ],
   "source": [
    "R=1500\n",
    "B=30\n",
    "\n",
    "# plt.plot(loss_list_clus,label = \"clus_loss\")\n",
    "plt.plot(acc_list_clus[1000:1050], label = \"clus_acc\")\n",
    "# plt.plot(loss_list_normal, label = \"normal_loss\")\n",
    "plt.plot(acc_list_normal[1000:1050], label= \"normal_acc\")\n",
    "plt.legend()\n",
    "plt.savefig('deep_cmpGradient_'+str(R)+'_'+str(B)+'.png')"
   ]
  },
  {
   "cell_type": "code",
   "execution_count": 31,
   "metadata": {
    "collapsed": true
   },
   "outputs": [],
   "source": [
    "images = np.load(\"minstImage.npy\")\n",
    "labels = np.load(\"minstLabels.npy\")\n",
    "final_ind = np.load(\"final_ind_cluster.npy\")\n",
    "final_labels  = labels[final_ind]\n",
    "final_images = images[final_ind]"
   ]
  },
  {
   "cell_type": "code",
   "execution_count": null,
   "metadata": {
    "collapsed": true
   },
   "outputs": [],
   "source": []
  },
  {
   "cell_type": "code",
   "execution_count": null,
   "metadata": {
    "collapsed": true
   },
   "outputs": [],
   "source": []
  },
  {
   "cell_type": "code",
   "execution_count": null,
   "metadata": {
    "collapsed": true
   },
   "outputs": [],
   "source": []
  },
  {
   "cell_type": "code",
   "execution_count": null,
   "metadata": {
    "collapsed": true
   },
   "outputs": [],
   "source": []
  },
  {
   "cell_type": "code",
   "execution_count": 43,
   "metadata": {},
   "outputs": [],
   "source": [
    "sorted_ind=np.load(\"sorted_ind.npy\")\n",
    "\n",
    "sorted_labels=labels[sorted_ind]\n",
    "\n",
    "sorted_labels_ONE=np.argmax(sorted_labels,axis=1)\n",
    "\n",
    "label_count=[np.count_nonzero(sorted_labels_ONE==i) for i in range(10)]\n",
    "\n",
    "sizeOneLabel=min(label_count)"
   ]
  },
  {
   "cell_type": "code",
   "execution_count": 63,
   "metadata": {},
   "outputs": [
    {
     "data": {
      "text/plain": [
       "array([ 5444, 11623, 17093, 22731, 28038, 33025, 38442, 44157, 49546, 55000])"
      ]
     },
     "execution_count": 63,
     "metadata": {},
     "output_type": "execute_result"
    }
   ],
   "source": [
    "for i in np.cumsum(label_count):\n",
    "    "
   ]
  },
  {
   "cell_type": "code",
   "execution_count": 65,
   "metadata": {},
   "outputs": [
    {
     "data": {
      "text/plain": [
       "array([[ 0.,  0.,  0., ...,  1.,  0.,  0.],\n",
       "       [ 0.,  0.,  0., ...,  0.,  0.,  0.],\n",
       "       [ 0.,  0.,  0., ...,  0.,  0.,  0.],\n",
       "       ..., \n",
       "       [ 0.,  0.,  0., ...,  0.,  0.,  0.],\n",
       "       [ 0.,  0.,  0., ...,  0.,  0.,  0.],\n",
       "       [ 0.,  0.,  0., ...,  0.,  1.,  0.]])"
      ]
     },
     "execution_count": 65,
     "metadata": {},
     "output_type": "execute_result"
    }
   ],
   "source": []
  },
  {
   "cell_type": "code",
   "execution_count": null,
   "metadata": {
    "collapsed": true
   },
   "outputs": [],
   "source": []
  }
 ],
 "metadata": {
  "kernelspec": {
   "display_name": "Python 2",
   "language": "python",
   "name": "python2"
  },
  "language_info": {
   "codemirror_mode": {
    "name": "ipython",
    "version": 2
   },
   "file_extension": ".py",
   "mimetype": "text/x-python",
   "name": "python",
   "nbconvert_exporter": "python",
   "pygments_lexer": "ipython2",
   "version": "2.7.12"
  }
 },
 "nbformat": 4,
 "nbformat_minor": 2
}
