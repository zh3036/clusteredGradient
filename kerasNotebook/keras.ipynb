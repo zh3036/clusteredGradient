{
 "cells": [
  {
   "cell_type": "markdown",
   "metadata": {},
   "source": [
    "# some material\n",
    "   \n",
    "### Is the data shuffled during training?\n",
    "\n",
    "Yes, if the shuffle argument in model.fit is set to True (which is the default), the training data will be randomly shuffled at each epoch.\n",
    "\n",
    "Validation data is never shuffled."
   ]
  },
  {
   "cell_type": "code",
   "execution_count": 1,
   "metadata": {},
   "outputs": [
    {
     "name": "stderr",
     "output_type": "stream",
     "text": [
      "Using TensorFlow backend.\n"
     ]
    }
   ],
   "source": [
    "\n",
    "from __future__ import print_function\n",
    "import keras\n",
    "from keras.datasets import mnist\n",
    "from keras.models import Sequential\n",
    "from keras.layers import Dense, Dropout, Flatten,Activation\n",
    "from keras.layers import Conv2D, MaxPooling2D\n",
    "from keras import backend as K\n",
    "import numpy as np\n",
    "import tensorflow as tf\n",
    "# np.random.seed(2016) \n",
    "import matplotlib\n",
    "matplotlib.use('Agg')\n",
    "\n",
    "%matplotlib inline\n",
    "from matplotlib import pyplot as plt\n"
   ]
  },
  {
   "cell_type": "markdown",
   "metadata": {},
   "source": [
    "# todo\n",
    "0. check whether the gradient decent is not shuffled  ---- done \n",
    "1. make the intilization the same   --- done \n",
    "2. make the datasets clustered  ----done \n",
    "3. randomized the clustered batch but its clusterng\n",
    "\n",
    "\n",
    "# the original complex keras model"
   ]
  },
  {
   "cell_type": "code",
   "execution_count": 2,
   "metadata": {
    "scrolled": true
   },
   "outputs": [
    {
     "name": "stdout",
     "output_type": "stream",
     "text": [
      "x_train shape: (60000, 28, 28, 1)\n",
      "60000 train samples\n",
      "10000 test samples\n",
      "Train on 60000 samples, validate on 10000 samples\n",
      "Epoch 1/12\n",
      "47616/60000 [======================>.......] - ETA: 8s - loss: 0.3761 - acc: 0.8855"
     ]
    },
    {
     "ename": "KeyboardInterrupt",
     "evalue": "",
     "output_type": "error",
     "traceback": [
      "\u001b[0;31m------------------------------------------------------------------------\u001b[0m",
      "\u001b[0;31mKeyboardInterrupt\u001b[0m                      Traceback (most recent call last)",
      "\u001b[0;32m<ipython-input-2-924522fad792>\u001b[0m in \u001b[0;36m<module>\u001b[0;34m()\u001b[0m\n\u001b[1;32m     51\u001b[0m           \u001b[0mepochs\u001b[0m\u001b[0;34m=\u001b[0m\u001b[0mepochs\u001b[0m\u001b[0;34m,\u001b[0m\u001b[0;34m\u001b[0m\u001b[0m\n\u001b[1;32m     52\u001b[0m           \u001b[0mverbose\u001b[0m\u001b[0;34m=\u001b[0m\u001b[0;36m1\u001b[0m\u001b[0;34m,\u001b[0m\u001b[0;34m\u001b[0m\u001b[0m\n\u001b[0;32m---> 53\u001b[0;31m           validation_data=(x_test, y_test))\n\u001b[0m\u001b[1;32m     54\u001b[0m \u001b[0mscore\u001b[0m \u001b[0;34m=\u001b[0m \u001b[0mmodel\u001b[0m\u001b[0;34m.\u001b[0m\u001b[0mevaluate\u001b[0m\u001b[0;34m(\u001b[0m\u001b[0mx_test\u001b[0m\u001b[0;34m,\u001b[0m \u001b[0my_test\u001b[0m\u001b[0;34m,\u001b[0m \u001b[0mverbose\u001b[0m\u001b[0;34m=\u001b[0m\u001b[0;36m0\u001b[0m\u001b[0;34m)\u001b[0m\u001b[0;34m\u001b[0m\u001b[0m\n\u001b[1;32m     55\u001b[0m \u001b[0;32mprint\u001b[0m\u001b[0;34m(\u001b[0m\u001b[0;34m'Test loss:'\u001b[0m\u001b[0;34m,\u001b[0m \u001b[0mscore\u001b[0m\u001b[0;34m[\u001b[0m\u001b[0;36m0\u001b[0m\u001b[0;34m]\u001b[0m\u001b[0;34m)\u001b[0m\u001b[0;34m\u001b[0m\u001b[0m\n",
      "\u001b[0;32m/home/zihanz/virtualenv/ML/local/lib/python2.7/site-packages/keras/models.pyc\u001b[0m in \u001b[0;36mfit\u001b[0;34m(self, x, y, batch_size, epochs, verbose, callbacks, validation_split, validation_data, shuffle, class_weight, sample_weight, initial_epoch, **kwargs)\u001b[0m\n\u001b[1;32m    865\u001b[0m                               \u001b[0mclass_weight\u001b[0m\u001b[0;34m=\u001b[0m\u001b[0mclass_weight\u001b[0m\u001b[0;34m,\u001b[0m\u001b[0;34m\u001b[0m\u001b[0m\n\u001b[1;32m    866\u001b[0m                               \u001b[0msample_weight\u001b[0m\u001b[0;34m=\u001b[0m\u001b[0msample_weight\u001b[0m\u001b[0;34m,\u001b[0m\u001b[0;34m\u001b[0m\u001b[0m\n\u001b[0;32m--> 867\u001b[0;31m                               initial_epoch=initial_epoch)\n\u001b[0m\u001b[1;32m    868\u001b[0m \u001b[0;34m\u001b[0m\u001b[0m\n\u001b[1;32m    869\u001b[0m     def evaluate(self, x, y, batch_size=32, verbose=1,\n",
      "\u001b[0;32m/home/zihanz/virtualenv/ML/local/lib/python2.7/site-packages/keras/engine/training.pyc\u001b[0m in \u001b[0;36mfit\u001b[0;34m(self, x, y, batch_size, epochs, verbose, callbacks, validation_split, validation_data, shuffle, class_weight, sample_weight, initial_epoch, steps_per_epoch, validation_steps, **kwargs)\u001b[0m\n\u001b[1;32m   1596\u001b[0m                               \u001b[0minitial_epoch\u001b[0m\u001b[0;34m=\u001b[0m\u001b[0minitial_epoch\u001b[0m\u001b[0;34m,\u001b[0m\u001b[0;34m\u001b[0m\u001b[0m\n\u001b[1;32m   1597\u001b[0m                               \u001b[0msteps_per_epoch\u001b[0m\u001b[0;34m=\u001b[0m\u001b[0msteps_per_epoch\u001b[0m\u001b[0;34m,\u001b[0m\u001b[0;34m\u001b[0m\u001b[0m\n\u001b[0;32m-> 1598\u001b[0;31m                               validation_steps=validation_steps)\n\u001b[0m\u001b[1;32m   1599\u001b[0m \u001b[0;34m\u001b[0m\u001b[0m\n\u001b[1;32m   1600\u001b[0m     def evaluate(self, x, y,\n",
      "\u001b[0;32m/home/zihanz/virtualenv/ML/local/lib/python2.7/site-packages/keras/engine/training.pyc\u001b[0m in \u001b[0;36m_fit_loop\u001b[0;34m(self, f, ins, out_labels, batch_size, epochs, verbose, callbacks, val_f, val_ins, shuffle, callback_metrics, initial_epoch, steps_per_epoch, validation_steps)\u001b[0m\n\u001b[1;32m   1181\u001b[0m                     \u001b[0mbatch_logs\u001b[0m\u001b[0;34m[\u001b[0m\u001b[0;34m'size'\u001b[0m\u001b[0;34m]\u001b[0m \u001b[0;34m=\u001b[0m \u001b[0mlen\u001b[0m\u001b[0;34m(\u001b[0m\u001b[0mbatch_ids\u001b[0m\u001b[0;34m)\u001b[0m\u001b[0;34m\u001b[0m\u001b[0m\n\u001b[1;32m   1182\u001b[0m                     \u001b[0mcallbacks\u001b[0m\u001b[0;34m.\u001b[0m\u001b[0mon_batch_begin\u001b[0m\u001b[0;34m(\u001b[0m\u001b[0mbatch_index\u001b[0m\u001b[0;34m,\u001b[0m \u001b[0mbatch_logs\u001b[0m\u001b[0;34m)\u001b[0m\u001b[0;34m\u001b[0m\u001b[0m\n\u001b[0;32m-> 1183\u001b[0;31m                     \u001b[0mouts\u001b[0m \u001b[0;34m=\u001b[0m \u001b[0mf\u001b[0m\u001b[0;34m(\u001b[0m\u001b[0mins_batch\u001b[0m\u001b[0;34m)\u001b[0m\u001b[0;34m\u001b[0m\u001b[0m\n\u001b[0m\u001b[1;32m   1184\u001b[0m                     \u001b[0;32mif\u001b[0m \u001b[0;32mnot\u001b[0m \u001b[0misinstance\u001b[0m\u001b[0;34m(\u001b[0m\u001b[0mouts\u001b[0m\u001b[0;34m,\u001b[0m \u001b[0mlist\u001b[0m\u001b[0;34m)\u001b[0m\u001b[0;34m:\u001b[0m\u001b[0;34m\u001b[0m\u001b[0m\n\u001b[1;32m   1185\u001b[0m                         \u001b[0mouts\u001b[0m \u001b[0;34m=\u001b[0m \u001b[0;34m[\u001b[0m\u001b[0mouts\u001b[0m\u001b[0;34m]\u001b[0m\u001b[0;34m\u001b[0m\u001b[0m\n",
      "\u001b[0;32m/home/zihanz/virtualenv/ML/local/lib/python2.7/site-packages/keras/backend/tensorflow_backend.pyc\u001b[0m in \u001b[0;36m__call__\u001b[0;34m(self, inputs)\u001b[0m\n\u001b[1;32m   2271\u001b[0m         updated = session.run(self.outputs + [self.updates_op],\n\u001b[1;32m   2272\u001b[0m                               \u001b[0mfeed_dict\u001b[0m\u001b[0;34m=\u001b[0m\u001b[0mfeed_dict\u001b[0m\u001b[0;34m,\u001b[0m\u001b[0;34m\u001b[0m\u001b[0m\n\u001b[0;32m-> 2273\u001b[0;31m                               **self.session_kwargs)\n\u001b[0m\u001b[1;32m   2274\u001b[0m         \u001b[0;32mreturn\u001b[0m \u001b[0mupdated\u001b[0m\u001b[0;34m[\u001b[0m\u001b[0;34m:\u001b[0m\u001b[0mlen\u001b[0m\u001b[0;34m(\u001b[0m\u001b[0mself\u001b[0m\u001b[0;34m.\u001b[0m\u001b[0moutputs\u001b[0m\u001b[0;34m)\u001b[0m\u001b[0;34m]\u001b[0m\u001b[0;34m\u001b[0m\u001b[0m\n\u001b[1;32m   2275\u001b[0m \u001b[0;34m\u001b[0m\u001b[0m\n",
      "\u001b[0;32m/home/zihanz/virtualenv/ML/local/lib/python2.7/site-packages/tensorflow/python/client/session.pyc\u001b[0m in \u001b[0;36mrun\u001b[0;34m(self, fetches, feed_dict, options, run_metadata)\u001b[0m\n\u001b[1;32m    776\u001b[0m     \u001b[0;32mtry\u001b[0m\u001b[0;34m:\u001b[0m\u001b[0;34m\u001b[0m\u001b[0m\n\u001b[1;32m    777\u001b[0m       result = self._run(None, fetches, feed_dict, options_ptr,\n\u001b[0;32m--> 778\u001b[0;31m                          run_metadata_ptr)\n\u001b[0m\u001b[1;32m    779\u001b[0m       \u001b[0;32mif\u001b[0m \u001b[0mrun_metadata\u001b[0m\u001b[0;34m:\u001b[0m\u001b[0;34m\u001b[0m\u001b[0m\n\u001b[1;32m    780\u001b[0m         \u001b[0mproto_data\u001b[0m \u001b[0;34m=\u001b[0m \u001b[0mtf_session\u001b[0m\u001b[0;34m.\u001b[0m\u001b[0mTF_GetBuffer\u001b[0m\u001b[0;34m(\u001b[0m\u001b[0mrun_metadata_ptr\u001b[0m\u001b[0;34m)\u001b[0m\u001b[0;34m\u001b[0m\u001b[0m\n",
      "\u001b[0;32m/home/zihanz/virtualenv/ML/local/lib/python2.7/site-packages/tensorflow/python/client/session.pyc\u001b[0m in \u001b[0;36m_run\u001b[0;34m(self, handle, fetches, feed_dict, options, run_metadata)\u001b[0m\n\u001b[1;32m    980\u001b[0m     \u001b[0;32mif\u001b[0m \u001b[0mfinal_fetches\u001b[0m \u001b[0;32mor\u001b[0m \u001b[0mfinal_targets\u001b[0m\u001b[0;34m:\u001b[0m\u001b[0;34m\u001b[0m\u001b[0m\n\u001b[1;32m    981\u001b[0m       results = self._do_run(handle, final_targets, final_fetches,\n\u001b[0;32m--> 982\u001b[0;31m                              feed_dict_string, options, run_metadata)\n\u001b[0m\u001b[1;32m    983\u001b[0m     \u001b[0;32melse\u001b[0m\u001b[0;34m:\u001b[0m\u001b[0;34m\u001b[0m\u001b[0m\n\u001b[1;32m    984\u001b[0m       \u001b[0mresults\u001b[0m \u001b[0;34m=\u001b[0m \u001b[0;34m[\u001b[0m\u001b[0;34m]\u001b[0m\u001b[0;34m\u001b[0m\u001b[0m\n",
      "\u001b[0;32m/home/zihanz/virtualenv/ML/local/lib/python2.7/site-packages/tensorflow/python/client/session.pyc\u001b[0m in \u001b[0;36m_do_run\u001b[0;34m(self, handle, target_list, fetch_list, feed_dict, options, run_metadata)\u001b[0m\n\u001b[1;32m   1030\u001b[0m     \u001b[0;32mif\u001b[0m \u001b[0mhandle\u001b[0m \u001b[0;32mis\u001b[0m \u001b[0mNone\u001b[0m\u001b[0;34m:\u001b[0m\u001b[0;34m\u001b[0m\u001b[0m\n\u001b[1;32m   1031\u001b[0m       return self._do_call(_run_fn, self._session, feed_dict, fetch_list,\n\u001b[0;32m-> 1032\u001b[0;31m                            target_list, options, run_metadata)\n\u001b[0m\u001b[1;32m   1033\u001b[0m     \u001b[0;32melse\u001b[0m\u001b[0;34m:\u001b[0m\u001b[0;34m\u001b[0m\u001b[0m\n\u001b[1;32m   1034\u001b[0m       return self._do_call(_prun_fn, self._session, handle, feed_dict,\n",
      "\u001b[0;32m/home/zihanz/virtualenv/ML/local/lib/python2.7/site-packages/tensorflow/python/client/session.pyc\u001b[0m in \u001b[0;36m_do_call\u001b[0;34m(self, fn, *args)\u001b[0m\n\u001b[1;32m   1037\u001b[0m   \u001b[0;32mdef\u001b[0m \u001b[0m_do_call\u001b[0m\u001b[0;34m(\u001b[0m\u001b[0mself\u001b[0m\u001b[0;34m,\u001b[0m \u001b[0mfn\u001b[0m\u001b[0;34m,\u001b[0m \u001b[0;34m*\u001b[0m\u001b[0margs\u001b[0m\u001b[0;34m)\u001b[0m\u001b[0;34m:\u001b[0m\u001b[0;34m\u001b[0m\u001b[0m\n\u001b[1;32m   1038\u001b[0m     \u001b[0;32mtry\u001b[0m\u001b[0;34m:\u001b[0m\u001b[0;34m\u001b[0m\u001b[0m\n\u001b[0;32m-> 1039\u001b[0;31m       \u001b[0;32mreturn\u001b[0m \u001b[0mfn\u001b[0m\u001b[0;34m(\u001b[0m\u001b[0;34m*\u001b[0m\u001b[0margs\u001b[0m\u001b[0;34m)\u001b[0m\u001b[0;34m\u001b[0m\u001b[0m\n\u001b[0m\u001b[1;32m   1040\u001b[0m     \u001b[0;32mexcept\u001b[0m \u001b[0merrors\u001b[0m\u001b[0;34m.\u001b[0m\u001b[0mOpError\u001b[0m \u001b[0;32mas\u001b[0m \u001b[0me\u001b[0m\u001b[0;34m:\u001b[0m\u001b[0;34m\u001b[0m\u001b[0m\n\u001b[1;32m   1041\u001b[0m       \u001b[0mmessage\u001b[0m \u001b[0;34m=\u001b[0m \u001b[0mcompat\u001b[0m\u001b[0;34m.\u001b[0m\u001b[0mas_text\u001b[0m\u001b[0;34m(\u001b[0m\u001b[0me\u001b[0m\u001b[0;34m.\u001b[0m\u001b[0mmessage\u001b[0m\u001b[0;34m)\u001b[0m\u001b[0;34m\u001b[0m\u001b[0m\n",
      "\u001b[0;32m/home/zihanz/virtualenv/ML/local/lib/python2.7/site-packages/tensorflow/python/client/session.pyc\u001b[0m in \u001b[0;36m_run_fn\u001b[0;34m(session, feed_dict, fetch_list, target_list, options, run_metadata)\u001b[0m\n\u001b[1;32m   1019\u001b[0m         return tf_session.TF_Run(session, options,\n\u001b[1;32m   1020\u001b[0m                                  \u001b[0mfeed_dict\u001b[0m\u001b[0;34m,\u001b[0m \u001b[0mfetch_list\u001b[0m\u001b[0;34m,\u001b[0m \u001b[0mtarget_list\u001b[0m\u001b[0;34m,\u001b[0m\u001b[0;34m\u001b[0m\u001b[0m\n\u001b[0;32m-> 1021\u001b[0;31m                                  status, run_metadata)\n\u001b[0m\u001b[1;32m   1022\u001b[0m \u001b[0;34m\u001b[0m\u001b[0m\n\u001b[1;32m   1023\u001b[0m     \u001b[0;32mdef\u001b[0m \u001b[0m_prun_fn\u001b[0m\u001b[0;34m(\u001b[0m\u001b[0msession\u001b[0m\u001b[0;34m,\u001b[0m \u001b[0mhandle\u001b[0m\u001b[0;34m,\u001b[0m \u001b[0mfeed_dict\u001b[0m\u001b[0;34m,\u001b[0m \u001b[0mfetch_list\u001b[0m\u001b[0;34m)\u001b[0m\u001b[0;34m:\u001b[0m\u001b[0;34m\u001b[0m\u001b[0m\n",
      "\u001b[0;31mKeyboardInterrupt\u001b[0m: "
     ]
    }
   ],
   "source": [
    "\n",
    "batch_size = 128\n",
    "num_classes = 10\n",
    "epochs = 12\n",
    "\n",
    "# input image dimensions\n",
    "img_rows, img_cols = 28, 28\n",
    "\n",
    "# the data, shuffled and split between train and test sets\n",
    "(x_train, y_train), (x_test, y_test) = mnist.load_data()\n",
    "\n",
    "if K.image_data_format() == 'channels_first':\n",
    "    x_train = x_train.reshape(x_train.shape[0], 1, img_rows, img_cols)\n",
    "    x_test = x_test.reshape(x_test.shape[0], 1, img_rows, img_cols)\n",
    "    input_shape = (1, img_rows, img_cols)\n",
    "else:\n",
    "    x_train = x_train.reshape(x_train.shape[0], img_rows, img_cols, 1)\n",
    "    x_test = x_test.reshape(x_test.shape[0], img_rows, img_cols, 1)\n",
    "    input_shape = (img_rows, img_cols, 1)\n",
    "\n",
    "x_train = x_train.astype('float32')\n",
    "x_test = x_test.astype('float32')\n",
    "x_train /= 255\n",
    "x_test /= 255\n",
    "print('x_train shape:', x_train.shape)\n",
    "print(x_train.shape[0], 'train samples')\n",
    "print(x_test.shape[0], 'test samples')\n",
    "\n",
    "# convert class vectors to binary class matrices\n",
    "y_train = keras.utils.to_categorical(y_train, num_classes)\n",
    "y_test = keras.utils.to_categorical(y_test, num_classes)\n",
    "\n",
    "model = Sequential()\n",
    "model.add(Conv2D(32, kernel_size=(3, 3),\n",
    "                 activation='relu',\n",
    "                 input_shape=input_shape))\n",
    "model.add(Conv2D(64, (3, 3), activation='relu'))\n",
    "model.add(MaxPooling2D(pool_size=(2, 2)))\n",
    "model.add(Dropout(0.25))\n",
    "model.add(Flatten())\n",
    "model.add(Dense(128, activation='relu'))\n",
    "model.add(Dropout(0.5))\n",
    "model.add(Dense(num_classes, activation='softmax'))\n",
    "\n",
    "model.compile(loss=keras.losses.categorical_crossentropy,\n",
    "              optimizer=keras.optimizers.Adadelta(),\n",
    "              metrics=['accuracy'])\n",
    "\n",
    "model.fit(x_train, y_train,\n",
    "          batch_size=batch_size,\n",
    "          epochs=epochs,\n",
    "          verbose=1,\n",
    "          validation_data=(x_test, y_test))\n",
    "score = model.evaluate(x_test, y_test, verbose=0)\n",
    "print('Test loss:', score[0])\n",
    "print('Test accuracy:', score[1])"
   ]
  },
  {
   "cell_type": "markdown",
   "metadata": {},
   "source": [
    "# a simpler SGD model"
   ]
  },
  {
   "cell_type": "code",
   "execution_count": 3,
   "metadata": {},
   "outputs": [
    {
     "name": "stdout",
     "output_type": "stream",
     "text": [
      "x_train shape: (60000, 28, 28, 1)\n",
      "60000 train samples\n",
      "10000 test samples\n",
      "Train on 60000 samples, validate on 10000 samples\n",
      "Epoch 1/12\n",
      "60000/60000 [==============================] - 17s - loss: 0.6508 - acc: 0.8433 - val_loss: 0.3052 - val_acc: 0.9128\n",
      "Epoch 2/12\n",
      "60000/60000 [==============================] - 17s - loss: 0.2870 - acc: 0.9184 - val_loss: 0.2448 - val_acc: 0.9317\n",
      "Epoch 3/12\n",
      "60000/60000 [==============================] - 17s - loss: 0.2360 - acc: 0.9328 - val_loss: 0.2077 - val_acc: 0.9390\n",
      "Epoch 4/12\n",
      "60000/60000 [==============================] - 17s - loss: 0.2025 - acc: 0.9430 - val_loss: 0.1859 - val_acc: 0.9463\n",
      "Epoch 5/12\n",
      "60000/60000 [==============================] - 17s - loss: 0.1789 - acc: 0.9497 - val_loss: 0.1631 - val_acc: 0.9530\n",
      "Epoch 6/12\n",
      "60000/60000 [==============================] - 17s - loss: 0.1590 - acc: 0.9551 - val_loss: 0.1594 - val_acc: 0.9542\n",
      "Epoch 7/12\n",
      "60000/60000 [==============================] - 17s - loss: 0.1444 - acc: 0.9588 - val_loss: 0.1364 - val_acc: 0.9606\n",
      "Epoch 8/12\n",
      "60000/60000 [==============================] - 17s - loss: 0.1321 - acc: 0.9620 - val_loss: 0.1303 - val_acc: 0.9619\n",
      "Epoch 9/12\n",
      "60000/60000 [==============================] - 17s - loss: 0.1219 - acc: 0.9653 - val_loss: 0.1215 - val_acc: 0.9645.96 - ETA: 0s - loss: 0.1221 - acc:\n",
      "Epoch 10/12\n",
      "60000/60000 [==============================] - 17s - loss: 0.1134 - acc: 0.9671 - val_loss: 0.1228 - val_acc: 0.9642\n",
      "Epoch 11/12\n",
      "60000/60000 [==============================] - 17s - loss: 0.1060 - acc: 0.9696 - val_loss: 0.1099 - val_acc: 0.9673\n",
      "Epoch 12/12\n",
      "60000/60000 [==============================] - 17s - loss: 0.0999 - acc: 0.9711 - val_loss: 0.1069 - val_acc: 0.9694\n",
      "Test loss: 0.106879658414\n",
      "Test accuracy: 0.9694\n"
     ]
    }
   ],
   "source": [
    "\n",
    "batch_size = 128\n",
    "num_classes = 10\n",
    "epochs = 12\n",
    "\n",
    "# input image dimensions\n",
    "img_rows, img_cols = 28, 28\n",
    "\n",
    "# the data, shuffled and split between train and test sets\n",
    "(x_train, y_train), (x_test, y_test) = mnist.load_data()\n",
    "\n",
    "if K.image_data_format() == 'channels_first':\n",
    "    x_train = x_train.reshape(x_train.shape[0], 1, img_rows, img_cols)\n",
    "    x_test = x_test.reshape(x_test.shape[0], 1, img_rows, img_cols)\n",
    "    input_shape = (1, img_rows, img_cols)\n",
    "else:\n",
    "    x_train = x_train.reshape(x_train.shape[0], img_rows, img_cols, 1)\n",
    "    x_test = x_test.reshape(x_test.shape[0], img_rows, img_cols, 1)\n",
    "    input_shape = (img_rows, img_cols, 1)\n",
    "\n",
    "x_train = x_train.astype('float32')\n",
    "x_test = x_test.astype('float32')\n",
    "x_train /= 255\n",
    "x_test /= 255\n",
    "print('x_train shape:', x_train.shape)\n",
    "print(x_train.shape[0], 'train samples')\n",
    "print(x_test.shape[0], 'test samples')\n",
    "\n",
    "# convert class vectors to binary class matrices\n",
    "y_train = keras.utils.to_categorical(y_train, num_classes)\n",
    "y_test = keras.utils.to_categorical(y_test, num_classes)\n",
    "\n",
    "model = Sequential()\n",
    "\n",
    "model.add(Conv2D(32, kernel_size=(3, 3),\n",
    "                 activation='relu',\n",
    "                 input_shape=input_shape))\n",
    "model.add(Flatten())\n",
    "model.add(Dense(128, activation='relu'))\n",
    "model.add(Dense(num_classes, activation='softmax'))\n",
    "\n",
    "model.compile(loss=keras.losses.categorical_crossentropy,\n",
    "              optimizer=keras.optimizers.SGD(lr=0.01, momentum=0.0, decay=0.0, nesterov=False),\n",
    "              metrics=['accuracy'])\n",
    "\n",
    "model.fit(x_train, y_train,\n",
    "          batch_size=batch_size,\n",
    "          epochs=epochs,\n",
    "          verbose=1,\n",
    "          validation_data=(x_test, y_test))\n",
    "score = model.evaluate(x_test, y_test, verbose=0)\n",
    "print('Test loss:', score[0])\n",
    "print('Test accuracy:', score[1])"
   ]
  },
  {
   "cell_type": "markdown",
   "metadata": {},
   "source": []
  },
  {
   "cell_type": "code",
   "execution_count": 7,
   "metadata": {},
   "outputs": [
    {
     "name": "stdout",
     "output_type": "stream",
     "text": [
      "x_train shape: (60000, 28, 28, 1)\n",
      "60000 train samples\n",
      "10000 test samples\n",
      "Train on 60000 samples, validate on 10000 samples\n",
      "Epoch 1/1\n",
      "17s - loss: 0.7178 - acc: 0.8193 - val_loss: 0.3196 - val_acc: 0.9094\n",
      "Test loss: 0.319608975106\n",
      "Test accuracy: 0.9094\n"
     ]
    }
   ],
   "source": [
    "\n",
    "batch_size = 128\n",
    "num_classes = 10\n",
    "epochs = 1\n",
    "\n",
    "# input image dimensions\n",
    "img_rows, img_cols = 28, 28\n",
    "\n",
    "# the data, shuffled and split between train and test sets\n",
    "(x_train, y_train), (x_test, y_test) = mnist.load_data()\n",
    "\n",
    "if K.image_data_format() == 'channels_first':\n",
    "    x_train = x_train.reshape(x_train.shape[0], 1, img_rows, img_cols)\n",
    "    x_test = x_test.reshape(x_test.shape[0], 1, img_rows, img_cols)\n",
    "    input_shape = (1, img_rows, img_cols)\n",
    "else:\n",
    "    x_train = x_train.reshape(x_train.shape[0], img_rows, img_cols, 1)\n",
    "    x_test = x_test.reshape(x_test.shape[0], img_rows, img_cols, 1)\n",
    "    input_shape = (img_rows, img_cols, 1)\n",
    "\n",
    "x_train = x_train.astype('float32')\n",
    "x_test = x_test.astype('float32')\n",
    "x_train /= 255\n",
    "x_test /= 255\n",
    "print('x_train shape:', x_train.shape)\n",
    "print(x_train.shape[0], 'train samples')\n",
    "print(x_test.shape[0], 'test samples')\n",
    "\n",
    "# convert class vectors to binary class matrices\n",
    "y_train = keras.utils.to_categorical(y_train, num_classes)\n",
    "y_test = keras.utils.to_categorical(y_test, num_classes)\n",
    "\n",
    "model = Sequential()\n",
    "\n",
    "model.add(Conv2D(32, kernel_size=(3, 3),\n",
    "                 activation='relu',\n",
    "                 input_shape=input_shape))\n",
    "model.add(Flatten())\n",
    "model.add(Dense(128, activation='relu'))\n",
    "model.add(Dense(num_classes, activation='softmax'))\n",
    "\n",
    "model.compile(loss=keras.losses.categorical_crossentropy,\n",
    "              optimizer=keras.optimizers.SGD(lr=0.01, momentum=0.0, decay=0.0, nesterov=False),\n",
    "              metrics=['acc'])\n",
    "\n",
    "model.fit(x_train, y_train,\n",
    "          batch_size=batch_size,\n",
    "          epochs=epochs,\n",
    "          verbose=2,\n",
    "          validation_data=(x_test, y_test))\n",
    "score = model.evaluate(x_test, y_test, verbose=0)\n",
    "print('Test loss:', score[0])\n",
    "print('Test accuracy:', score[1])"
   ]
  },
  {
   "cell_type": "markdown",
   "metadata": {},
   "source": [
    "# KERAS SGD TESTING\n",
    "start from here we are testing the keras SGD random or not, we use small sample of data"
   ]
  },
  {
   "cell_type": "code",
   "execution_count": 2,
   "metadata": {
    "collapsed": true
   },
   "outputs": [],
   "source": [
    "\n",
    "# the data, shuffled and split between train and test sets\n",
    "(x_train, y_train), (x_test, y_test) = mnist.load_data()\n"
   ]
  },
  {
   "cell_type": "code",
   "execution_count": 3,
   "metadata": {},
   "outputs": [
    {
     "data": {
      "text/plain": [
       "(60000, 28, 28)"
      ]
     },
     "execution_count": 3,
     "metadata": {},
     "output_type": "execute_result"
    }
   ],
   "source": [
    "x_train.shape"
   ]
  },
  {
   "cell_type": "code",
   "execution_count": 4,
   "metadata": {
    "collapsed": true
   },
   "outputs": [],
   "source": [
    "\n",
    "# input image dimensions\n",
    "img_rows, img_cols = 28, 28\n",
    "num_classes = 10\n",
    "\n",
    "if K.image_data_format() == 'channels_first':\n",
    "    x_train = x_train.reshape(x_train.shape[0], 1, img_rows, img_cols)\n",
    "    x_test = x_test.reshape(x_test.shape[0], 1, img_rows, img_cols)\n",
    "    input_shape = (1, img_rows, img_cols)\n",
    "else:\n",
    "    x_train = x_train.reshape(x_train.shape[0], img_rows, img_cols, 1)\n",
    "    x_test = x_test.reshape(x_test.shape[0], img_rows, img_cols, 1)\n",
    "    input_shape = (img_rows, img_cols, 1)"
   ]
  },
  {
   "cell_type": "code",
   "execution_count": 5,
   "metadata": {},
   "outputs": [
    {
     "data": {
      "text/plain": [
       "(60000, 28, 28, 1)"
      ]
     },
     "execution_count": 5,
     "metadata": {},
     "output_type": "execute_result"
    }
   ],
   "source": [
    "x_train.shape"
   ]
  },
  {
   "cell_type": "code",
   "execution_count": 6,
   "metadata": {
    "collapsed": true
   },
   "outputs": [],
   "source": [
    "x_train = x_train[:5000]"
   ]
  },
  {
   "cell_type": "code",
   "execution_count": 7,
   "metadata": {
    "collapsed": true
   },
   "outputs": [],
   "source": [
    "y_train = y_train[:5000]"
   ]
  },
  {
   "cell_type": "code",
   "execution_count": 8,
   "metadata": {},
   "outputs": [
    {
     "data": {
      "text/plain": [
       "(10000, 28, 28, 1)"
      ]
     },
     "execution_count": 8,
     "metadata": {},
     "output_type": "execute_result"
    }
   ],
   "source": [
    "x_test.shape"
   ]
  },
  {
   "cell_type": "code",
   "execution_count": 9,
   "metadata": {
    "collapsed": true
   },
   "outputs": [],
   "source": [
    "x_test=x_test[:1000]"
   ]
  },
  {
   "cell_type": "code",
   "execution_count": 10,
   "metadata": {
    "collapsed": true
   },
   "outputs": [],
   "source": [
    "y_test=y_test[:1000]"
   ]
  },
  {
   "cell_type": "code",
   "execution_count": 11,
   "metadata": {},
   "outputs": [
    {
     "name": "stdout",
     "output_type": "stream",
     "text": [
      "x_train shape: (5000, 28, 28, 1)\n",
      "5000 train samples\n",
      "1000 test samples\n"
     ]
    }
   ],
   "source": [
    "\n",
    "x_train = x_train.astype('float32')\n",
    "x_test = x_test.astype('float32')\n",
    "x_train /= 255\n",
    "x_test /= 255\n",
    "print('x_train shape:', x_train.shape)\n",
    "print(x_train.shape[0], 'train samples')\n",
    "print(x_test.shape[0], 'test samples')\n",
    "\n",
    "# convert class vectors to binary class matrices\n",
    "y_train = keras.utils.to_categorical(y_train, num_classes)\n",
    "y_test = keras.utils.to_categorical(y_test, num_classes)\n"
   ]
  },
  {
   "cell_type": "code",
   "execution_count": 12,
   "metadata": {
    "collapsed": true
   },
   "outputs": [],
   "source": [
    "class LossHistory(keras.callbacks.Callback):\n",
    "    def on_train_begin(self, logs={}):\n",
    "        self.losses = []\n",
    "\n",
    "    def on_batch_end(self, batch, logs={}):\n",
    "        self.losses.append(logs.get('loss'))"
   ]
  },
  {
   "cell_type": "code",
   "execution_count": 13,
   "metadata": {},
   "outputs": [
    {
     "name": "stdout",
     "output_type": "stream",
     "text": [
      "Train on 5000 samples, validate on 1000 samples\n",
      "Epoch 1/1\n",
      "5000/5000 [==============================] - 8s - loss: 1.4065 - acc: 0.6968 - val_loss: 0.7591 - val_acc: 0.8070\n",
      "Test loss: 0.759067568779\n",
      "Test accuracy: 0.807\n",
      "[2.3049223, 2.2985256, 2.2503564, 2.23441, 2.2234449, 2.2072704, 2.1865511, 2.2155533, 2.1858051, 2.1327934, 2.1990898, 2.1380169, 2.1394863, 2.103225, 2.0474067, 2.0465572, 2.0727258, 1.9859893, 2.041285, 1.9573172, 1.9655675, 1.9812416, 1.9547147, 1.9515655, 2.0535624, 1.8622813, 1.8708495, 1.8733219, 1.8495508, 1.8177255, 1.7837791, 1.8093818, 1.7864228, 1.7551713, 1.6808974, 1.6290058, 1.7298985, 1.6548636, 1.5631753, 1.6652234, 1.4998133, 1.4984107, 1.4360192, 1.4625568, 1.363209, 1.5035322, 1.4647084, 1.3634138, 1.4724407, 1.423772, 1.321414, 1.3188597, 1.214731, 1.2739127, 1.3362553, 1.235743, 1.2167237, 1.040653, 1.1309727, 1.1397777, 1.1723866, 1.103657, 1.0912642, 0.99940914, 0.94918859, 1.0763081, 1.1367857, 1.0637504, 1.0026662, 0.79261637, 0.87819529, 0.83536613, 0.79376453, 0.86479247, 0.86266452, 0.85155499, 0.90317357, 0.88909763, 1.0159655, 0.76894772, 0.85069048, 0.82468623, 0.91659057, 0.71294498, 0.88365251, 0.78887117, 0.75858307, 0.8007558, 0.76175386, 0.66194952, 0.7351917, 0.84791619, 0.80403364, 0.69142652, 0.85679936, 0.81937689, 0.59881306, 0.73300576, 0.82875723, 0.79295349]\n"
     ]
    }
   ],
   "source": [
    "\n",
    "with tf.device('/gpu:1'):\n",
    "    # np.random.seed(2016) \n",
    "    batch_size = 50\n",
    "    epochs = 1\n",
    "\n",
    "\n",
    "\n",
    "    model = Sequential()\n",
    "\n",
    "    model.add(Conv2D(32, kernel_size=(3, 3),\n",
    "                     activation='relu',\n",
    "                     input_shape=input_shape))\n",
    "    model.add(Flatten())\n",
    "    model.add(Dense(128, activation='relu'))\n",
    "    model.add(Dense(num_classes, activation='softmax'))\n",
    "\n",
    "\n",
    "    model.compile(loss=keras.losses.categorical_crossentropy,\n",
    "                  optimizer=keras.optimizers.SGD(lr=0.01, momentum=0.0, decay=0.0, nesterov=False),\n",
    "                  metrics=['acc'])\n",
    "\n",
    "    batch_history = LossHistory()\n",
    "\n",
    "    history = model.fit(x_train, y_train,\n",
    "              batch_size=batch_size,\n",
    "              epochs=epochs,\n",
    "              verbose=1,\n",
    "              validation_data=(x_test, y_test),\n",
    "              callbacks = [batch_history])\n",
    "    score = model.evaluate(x_test, y_test, verbose=0)\n",
    "    print('Test loss:', score[0])\n",
    "    print('Test accuracy:', score[1])\n",
    "    print(batch_history.losses)"
   ]
  },
  {
   "cell_type": "code",
   "execution_count": 14,
   "metadata": {
    "collapsed": true
   },
   "outputs": [],
   "source": [
    "model.save_weights('keras_stochas_test.h5')\n",
    "#Assuming you have code for instantiating your model, you can then load the weights you saved into a model with the same architecture:\n",
    "\n",
    "model.load_weights('keras_stochas_test.h5')\n"
   ]
  },
  {
   "cell_type": "code",
   "execution_count": 30,
   "metadata": {},
   "outputs": [
    {
     "name": "stdout",
     "output_type": "stream",
     "text": [
      "Train on 5000 samples, validate on 1000 samples\n",
      "Epoch 1/1\n",
      "5000/5000 [==============================] - 0s - loss: 0.4911 - acc: 0.8752 - val_loss: 0.4847 - val_acc: 0.8570\n",
      "Test loss: 0.484671998024\n",
      "Test accuracy: 0.857\n",
      "[0.74001825, 0.50991201, 0.67236155, 0.63878816, 0.58162868, 0.58588982, 0.49227825, 0.44537508, 0.60324645, 0.61554861, 0.81974787, 0.62652075, 0.81085724, 0.63647437, 0.58922052, 0.50366402, 0.52365553, 0.72443247, 0.74182057, 0.51571625, 0.72931361, 0.80613327, 0.7977227, 0.41920802, 0.66189563, 0.5539059, 0.45504004, 0.69632268, 0.56362122, 0.41638905, 0.54011858, 0.56462443, 0.4719522, 0.50067538, 0.33932644, 0.49572638, 0.49912605, 0.4305236, 0.46893668, 0.36471185, 0.56305152, 0.50469106, 0.29429141, 0.38880646, 0.43068427, 0.3661879, 0.409724, 0.47507751, 0.61898494, 0.3900775, 0.29899412, 0.44382507, 0.41442293, 0.52878785, 0.54420567, 0.48296213, 0.48953086, 0.29178518, 0.50160062, 0.43842167, 0.5282855, 0.58993357, 0.41710049, 0.35561889, 0.41067433, 0.49818552, 0.31359819, 0.58761752, 0.38501012, 0.37142059, 0.61493379, 0.36351019, 0.27638412, 0.55661404, 0.45471004, 0.45846593, 0.41743988, 0.32518482, 0.35878998, 0.342022, 0.28102133, 0.57798684, 0.46101761, 0.57744765, 0.32036161, 0.43766263, 0.48834184, 0.41004321, 0.30174226, 0.45654821, 0.37843686, 0.24324566, 0.47529745, 0.51853216, 0.26317567, 0.53444099, 0.4972057, 0.26363698, 0.43480033, 0.53379714]\n"
     ]
    }
   ],
   "source": [
    "\n",
    "model.load_weights('keras_stochas_test.h5')\n",
    "with tf.device('/gpu:1'):\n",
    "    history = model.fit(x_train, y_train,\n",
    "              batch_size=batch_size,\n",
    "              epochs=epochs,\n",
    "              verbose=1,\n",
    "              validation_data=(x_test, y_test),\n",
    "              callbacks = [batch_history],\n",
    "              shuffle = False) # we can already see that the shuffle affects training a lot\n",
    "    score = model.evaluate(x_test, y_test, verbose=0)\n",
    "    print('Test loss:', score[0])\n",
    "    print('Test accuracy:', score[1])\n",
    "    print(batch_history.losses)"
   ]
  },
  {
   "cell_type": "markdown",
   "metadata": {
    "collapsed": true
   },
   "source": [
    "## Summary\n",
    "here \n",
    "1. we make keras stop shuffling the data \n",
    "2. we make sure it gives a determinisc GD"
   ]
  },
  {
   "cell_type": "markdown",
   "metadata": {
    "collapsed": true
   },
   "source": [
    "# make data clustered\n",
    "\n",
    "1. "
   ]
  },
  {
   "cell_type": "code",
   "execution_count": 2,
   "metadata": {
    "collapsed": true
   },
   "outputs": [],
   "source": [
    "# load and formating data first \n",
    "(x_train, y_train), (x_test, y_test) = mnist.load_data()\n",
    "\n",
    "# input image dimensions\n",
    "img_rows, img_cols = 28, 28\n",
    "num_classes = 10\n",
    "\n",
    "if K.image_data_format() == 'channels_first':\n",
    "    x_train = x_train.reshape(x_train.shape[0], 1, img_rows, img_cols)\n",
    "    x_test = x_test.reshape(x_test.shape[0], 1, img_rows, img_cols)\n",
    "    input_shape = (1, img_rows, img_cols)\n",
    "else:\n",
    "    x_train = x_train.reshape(x_train.shape[0], img_rows, img_cols, 1)\n",
    "    x_test = x_test.reshape(x_test.shape[0], img_rows, img_cols, 1)\n",
    "    input_shape = (img_rows, img_cols, 1)"
   ]
  },
  {
   "cell_type": "code",
   "execution_count": 3,
   "metadata": {},
   "outputs": [
    {
     "data": {
      "text/plain": [
       "array([30207,  5662, 55366, ..., 23285, 15728, 11924])"
      ]
     },
     "execution_count": 3,
     "metadata": {},
     "output_type": "execute_result"
    }
   ],
   "source": [
    "y_train.argsort()"
   ]
  },
  {
   "cell_type": "code",
   "execution_count": 4,
   "metadata": {
    "collapsed": true
   },
   "outputs": [],
   "source": [
    "sorted_X_train = x_train[y_train.argsort()]\n",
    "sorted_Y_train = y_train[y_train.argsort()]"
   ]
  },
  {
   "cell_type": "code",
   "execution_count": 5,
   "metadata": {
    "collapsed": true
   },
   "outputs": [],
   "source": [
    "unique, counts = np.unique(sorted_Y_train, return_counts=True)"
   ]
  },
  {
   "cell_type": "code",
   "execution_count": 6,
   "metadata": {},
   "outputs": [
    {
     "data": {
      "text/plain": [
       "array([5923, 6742, 5958, 6131, 5842, 5421, 5918, 6265, 5851, 5949])"
      ]
     },
     "execution_count": 6,
     "metadata": {},
     "output_type": "execute_result"
    }
   ],
   "source": [
    "counts"
   ]
  },
  {
   "cell_type": "code",
   "execution_count": 7,
   "metadata": {},
   "outputs": [
    {
     "data": {
      "text/plain": [
       "array([0, 1, 2, 3, 4, 5, 6, 7, 8, 9], dtype=uint8)"
      ]
     },
     "execution_count": 7,
     "metadata": {},
     "output_type": "execute_result"
    }
   ],
   "source": [
    "unique"
   ]
  },
  {
   "cell_type": "code",
   "execution_count": 8,
   "metadata": {},
   "outputs": [
    {
     "name": "stdout",
     "output_type": "stream",
     "text": [
      "5421\n"
     ]
    }
   ],
   "source": [
    "num_each = min(counts)\n",
    "print (num_each)"
   ]
  },
  {
   "cell_type": "code",
   "execution_count": 9,
   "metadata": {},
   "outputs": [
    {
     "data": {
      "text/plain": [
       "array([0, 0, 0, ..., 0, 0, 0], dtype=uint8)"
      ]
     },
     "execution_count": 9,
     "metadata": {},
     "output_type": "execute_result"
    }
   ],
   "source": [
    "# first we want a list of indices of each number \n",
    "\n",
    "# array of indices of 0\n",
    "\n",
    "sorted_Y_train[range(0,counts[0])]\n"
   ]
  },
  {
   "cell_type": "code",
   "execution_count": 10,
   "metadata": {
    "collapsed": true
   },
   "outputs": [],
   "source": [
    "ind1 = np.argwhere(sorted_Y_train  == 1)"
   ]
  },
  {
   "cell_type": "code",
   "execution_count": 11,
   "metadata": {},
   "outputs": [
    {
     "data": {
      "text/plain": [
       "array([[ 5923],\n",
       "       [ 5924],\n",
       "       [ 5925],\n",
       "       ..., \n",
       "       [12662],\n",
       "       [12663],\n",
       "       [12664]])"
      ]
     },
     "execution_count": 11,
     "metadata": {},
     "output_type": "execute_result"
    }
   ],
   "source": [
    "ind1"
   ]
  },
  {
   "cell_type": "code",
   "execution_count": 12,
   "metadata": {},
   "outputs": [
    {
     "data": {
      "text/plain": [
       "array([ 5923,  5924,  5925, ..., 12662, 12663, 12664])"
      ]
     },
     "execution_count": 12,
     "metadata": {},
     "output_type": "execute_result"
    }
   ],
   "source": [
    "ind1.flatten()"
   ]
  },
  {
   "cell_type": "code",
   "execution_count": 13,
   "metadata": {
    "collapsed": true
   },
   "outputs": [],
   "source": [
    "listOfIndOfNum = range(10)"
   ]
  },
  {
   "cell_type": "code",
   "execution_count": 14,
   "metadata": {
    "collapsed": true
   },
   "outputs": [],
   "source": [
    "listOfIndOfNum = [np.argwhere(sorted_Y_train ==i).flatten() for i in range(10)]"
   ]
  },
  {
   "cell_type": "code",
   "execution_count": 15,
   "metadata": {},
   "outputs": [
    {
     "name": "stdout",
     "output_type": "stream",
     "text": [
      "[0 0 0 ..., 0 0 0]\n",
      "[1 1 1 ..., 1 1 1]\n",
      "[2 2 2 ..., 2 2 2]\n",
      "[3 3 3 ..., 3 3 3]\n",
      "[4 4 4 ..., 4 4 4]\n",
      "[5 5 5 ..., 5 5 5]\n",
      "[6 6 6 ..., 6 6 6]\n",
      "[7 7 7 ..., 7 7 7]\n",
      "[8 8 8 ..., 8 8 8]\n",
      "[9 9 9 ..., 9 9 9]\n"
     ]
    }
   ],
   "source": [
    "for i in range(10):\n",
    "    print(sorted_Y_train[listOfIndOfNum[i]])"
   ]
  },
  {
   "cell_type": "code",
   "execution_count": 16,
   "metadata": {
    "collapsed": true
   },
   "outputs": [],
   "source": [
    "\n",
    "# now let us make a function that can join them "
   ]
  },
  {
   "cell_type": "code",
   "execution_count": 17,
   "metadata": {
    "collapsed": true
   },
   "outputs": [],
   "source": [
    "def join(partitions_inds):\n",
    "    cluster_size = len(partitions_inds)\n",
    "#     print (\"cluster size:\",cluster_size)\n",
    "    cluster_num = min([len(i) for i in partitions_inds])\n",
    "#     print (\"cluster_num:\",cluster_num)\n",
    "    ret = np.arange(cluster_size * cluster_num)\n",
    "#     print (ret)\n",
    "#     print (ret.shape)\n",
    "    for i in range(cluster_num):\n",
    "        for j in range(cluster_size):\n",
    "            pass\n",
    "            ret[cluster_size*i+j] = partitions_inds[j][i]\n",
    "#             print (j,i)\n",
    "    return ret"
   ]
  },
  {
   "cell_type": "code",
   "execution_count": 18,
   "metadata": {
    "collapsed": true
   },
   "outputs": [],
   "source": [
    "mixed_ind = join(listOfIndOfNum)"
   ]
  },
  {
   "cell_type": "code",
   "execution_count": 19,
   "metadata": {},
   "outputs": [
    {
     "data": {
      "text/plain": [
       "[0,\n",
       " 1,\n",
       " 2,\n",
       " 3,\n",
       " 4,\n",
       " 5,\n",
       " 6,\n",
       " 7,\n",
       " 8,\n",
       " 9,\n",
       " 0,\n",
       " 1,\n",
       " 2,\n",
       " 3,\n",
       " 4,\n",
       " 5,\n",
       " 6,\n",
       " 7,\n",
       " 8,\n",
       " 9,\n",
       " 0,\n",
       " 1,\n",
       " 2,\n",
       " 3,\n",
       " 4,\n",
       " 5,\n",
       " 6,\n",
       " 7,\n",
       " 8,\n",
       " 9,\n",
       " 0,\n",
       " 1,\n",
       " 2,\n",
       " 3,\n",
       " 4,\n",
       " 5,\n",
       " 6,\n",
       " 7,\n",
       " 8,\n",
       " 9,\n",
       " 0,\n",
       " 1,\n",
       " 2,\n",
       " 3,\n",
       " 4,\n",
       " 5,\n",
       " 6,\n",
       " 7,\n",
       " 8,\n",
       " 9,\n",
       " 0,\n",
       " 1,\n",
       " 2,\n",
       " 3,\n",
       " 4,\n",
       " 5,\n",
       " 6,\n",
       " 7,\n",
       " 8,\n",
       " 9,\n",
       " 0,\n",
       " 1,\n",
       " 2,\n",
       " 3,\n",
       " 4,\n",
       " 5,\n",
       " 6,\n",
       " 7,\n",
       " 8,\n",
       " 9,\n",
       " 0,\n",
       " 1,\n",
       " 2,\n",
       " 3,\n",
       " 4,\n",
       " 5,\n",
       " 6,\n",
       " 7,\n",
       " 8,\n",
       " 9,\n",
       " 0,\n",
       " 1,\n",
       " 2,\n",
       " 3,\n",
       " 4,\n",
       " 5,\n",
       " 6,\n",
       " 7,\n",
       " 8,\n",
       " 9,\n",
       " 0,\n",
       " 1,\n",
       " 2,\n",
       " 3,\n",
       " 4,\n",
       " 5,\n",
       " 6,\n",
       " 7,\n",
       " 8,\n",
       " 9,\n",
       " 0,\n",
       " 1,\n",
       " 2,\n",
       " 3,\n",
       " 4,\n",
       " 5,\n",
       " 6,\n",
       " 7,\n",
       " 8,\n",
       " 9,\n",
       " 0,\n",
       " 1,\n",
       " 2,\n",
       " 3,\n",
       " 4,\n",
       " 5,\n",
       " 6,\n",
       " 7,\n",
       " 8,\n",
       " 9,\n",
       " 0,\n",
       " 1,\n",
       " 2,\n",
       " 3,\n",
       " 4,\n",
       " 5,\n",
       " 6,\n",
       " 7,\n",
       " 8,\n",
       " 9,\n",
       " 0,\n",
       " 1,\n",
       " 2,\n",
       " 3,\n",
       " 4,\n",
       " 5,\n",
       " 6,\n",
       " 7,\n",
       " 8,\n",
       " 9,\n",
       " 0,\n",
       " 1,\n",
       " 2,\n",
       " 3,\n",
       " 4,\n",
       " 5,\n",
       " 6,\n",
       " 7,\n",
       " 8,\n",
       " 9,\n",
       " 0,\n",
       " 1,\n",
       " 2,\n",
       " 3,\n",
       " 4,\n",
       " 5,\n",
       " 6,\n",
       " 7,\n",
       " 8,\n",
       " 9,\n",
       " 0,\n",
       " 1,\n",
       " 2,\n",
       " 3,\n",
       " 4,\n",
       " 5,\n",
       " 6,\n",
       " 7,\n",
       " 8,\n",
       " 9,\n",
       " 0,\n",
       " 1,\n",
       " 2,\n",
       " 3,\n",
       " 4,\n",
       " 5,\n",
       " 6,\n",
       " 7,\n",
       " 8,\n",
       " 9,\n",
       " 0,\n",
       " 1,\n",
       " 2,\n",
       " 3,\n",
       " 4,\n",
       " 5,\n",
       " 6,\n",
       " 7,\n",
       " 8,\n",
       " 9,\n",
       " 0,\n",
       " 1,\n",
       " 2,\n",
       " 3,\n",
       " 4,\n",
       " 5,\n",
       " 6,\n",
       " 7,\n",
       " 8,\n",
       " 9,\n",
       " 0,\n",
       " 1,\n",
       " 2,\n",
       " 3,\n",
       " 4,\n",
       " 5,\n",
       " 6,\n",
       " 7,\n",
       " 8,\n",
       " 9,\n",
       " 0,\n",
       " 1,\n",
       " 2,\n",
       " 3,\n",
       " 4,\n",
       " 5,\n",
       " 6,\n",
       " 7,\n",
       " 8,\n",
       " 9,\n",
       " 0,\n",
       " 1,\n",
       " 2,\n",
       " 3,\n",
       " 4,\n",
       " 5,\n",
       " 6,\n",
       " 7,\n",
       " 8,\n",
       " 9,\n",
       " 0,\n",
       " 1,\n",
       " 2,\n",
       " 3,\n",
       " 4,\n",
       " 5,\n",
       " 6,\n",
       " 7,\n",
       " 8,\n",
       " 9,\n",
       " 0,\n",
       " 1,\n",
       " 2,\n",
       " 3,\n",
       " 4,\n",
       " 5,\n",
       " 6,\n",
       " 7,\n",
       " 8,\n",
       " 9,\n",
       " 0,\n",
       " 1,\n",
       " 2,\n",
       " 3,\n",
       " 4,\n",
       " 5,\n",
       " 6,\n",
       " 7,\n",
       " 8,\n",
       " 9,\n",
       " 0,\n",
       " 1,\n",
       " 2,\n",
       " 3,\n",
       " 4,\n",
       " 5,\n",
       " 6,\n",
       " 7,\n",
       " 8,\n",
       " 9,\n",
       " 0,\n",
       " 1,\n",
       " 2,\n",
       " 3,\n",
       " 4,\n",
       " 5,\n",
       " 6,\n",
       " 7,\n",
       " 8,\n",
       " 9,\n",
       " 0,\n",
       " 1,\n",
       " 2,\n",
       " 3,\n",
       " 4,\n",
       " 5,\n",
       " 6,\n",
       " 7,\n",
       " 8,\n",
       " 9,\n",
       " 0,\n",
       " 1,\n",
       " 2,\n",
       " 3,\n",
       " 4,\n",
       " 5,\n",
       " 6,\n",
       " 7,\n",
       " 8,\n",
       " 9,\n",
       " 0,\n",
       " 1,\n",
       " 2,\n",
       " 3,\n",
       " 4,\n",
       " 5,\n",
       " 6,\n",
       " 7,\n",
       " 8,\n",
       " 9,\n",
       " 0,\n",
       " 1,\n",
       " 2,\n",
       " 3,\n",
       " 4,\n",
       " 5,\n",
       " 6,\n",
       " 7,\n",
       " 8,\n",
       " 9,\n",
       " 0,\n",
       " 1,\n",
       " 2,\n",
       " 3,\n",
       " 4,\n",
       " 5,\n",
       " 6,\n",
       " 7,\n",
       " 8,\n",
       " 9,\n",
       " 0,\n",
       " 1,\n",
       " 2,\n",
       " 3,\n",
       " 4,\n",
       " 5,\n",
       " 6,\n",
       " 7,\n",
       " 8,\n",
       " 9,\n",
       " 0,\n",
       " 1,\n",
       " 2,\n",
       " 3,\n",
       " 4,\n",
       " 5,\n",
       " 6,\n",
       " 7,\n",
       " 8,\n",
       " 9,\n",
       " 0,\n",
       " 1,\n",
       " 2,\n",
       " 3,\n",
       " 4,\n",
       " 5,\n",
       " 6,\n",
       " 7,\n",
       " 8,\n",
       " 9,\n",
       " 0,\n",
       " 1,\n",
       " 2,\n",
       " 3,\n",
       " 4,\n",
       " 5,\n",
       " 6,\n",
       " 7,\n",
       " 8,\n",
       " 9,\n",
       " 0,\n",
       " 1,\n",
       " 2,\n",
       " 3,\n",
       " 4,\n",
       " 5,\n",
       " 6,\n",
       " 7,\n",
       " 8,\n",
       " 9,\n",
       " 0,\n",
       " 1,\n",
       " 2,\n",
       " 3,\n",
       " 4,\n",
       " 5,\n",
       " 6,\n",
       " 7,\n",
       " 8,\n",
       " 9,\n",
       " 0,\n",
       " 1,\n",
       " 2,\n",
       " 3,\n",
       " 4,\n",
       " 5,\n",
       " 6,\n",
       " 7,\n",
       " 8,\n",
       " 9,\n",
       " 0,\n",
       " 1,\n",
       " 2,\n",
       " 3,\n",
       " 4,\n",
       " 5,\n",
       " 6,\n",
       " 7,\n",
       " 8,\n",
       " 9,\n",
       " 0,\n",
       " 1,\n",
       " 2,\n",
       " 3,\n",
       " 4,\n",
       " 5,\n",
       " 6,\n",
       " 7,\n",
       " 8,\n",
       " 9,\n",
       " 0,\n",
       " 1,\n",
       " 2,\n",
       " 3,\n",
       " 4,\n",
       " 5,\n",
       " 6,\n",
       " 7,\n",
       " 8,\n",
       " 9,\n",
       " 0,\n",
       " 1,\n",
       " 2,\n",
       " 3,\n",
       " 4,\n",
       " 5,\n",
       " 6,\n",
       " 7,\n",
       " 8,\n",
       " 9,\n",
       " 0,\n",
       " 1,\n",
       " 2,\n",
       " 3,\n",
       " 4,\n",
       " 5,\n",
       " 6,\n",
       " 7,\n",
       " 8,\n",
       " 9,\n",
       " 0,\n",
       " 1,\n",
       " 2,\n",
       " 3,\n",
       " 4,\n",
       " 5,\n",
       " 6,\n",
       " 7,\n",
       " 8,\n",
       " 9,\n",
       " 0,\n",
       " 1,\n",
       " 2,\n",
       " 3,\n",
       " 4,\n",
       " 5,\n",
       " 6,\n",
       " 7,\n",
       " 8,\n",
       " 9,\n",
       " 0,\n",
       " 1,\n",
       " 2,\n",
       " 3,\n",
       " 4,\n",
       " 5,\n",
       " 6,\n",
       " 7,\n",
       " 8,\n",
       " 9,\n",
       " 0,\n",
       " 1,\n",
       " 2,\n",
       " 3,\n",
       " 4,\n",
       " 5,\n",
       " 6,\n",
       " 7,\n",
       " 8,\n",
       " 9,\n",
       " 0,\n",
       " 1,\n",
       " 2,\n",
       " 3,\n",
       " 4,\n",
       " 5,\n",
       " 6,\n",
       " 7,\n",
       " 8,\n",
       " 9,\n",
       " 0,\n",
       " 1,\n",
       " 2,\n",
       " 3,\n",
       " 4,\n",
       " 5,\n",
       " 6,\n",
       " 7,\n",
       " 8,\n",
       " 9,\n",
       " 0,\n",
       " 1,\n",
       " 2,\n",
       " 3,\n",
       " 4,\n",
       " 5,\n",
       " 6,\n",
       " 7,\n",
       " 8,\n",
       " 9,\n",
       " 0,\n",
       " 1,\n",
       " 2,\n",
       " 3,\n",
       " 4,\n",
       " 5,\n",
       " 6,\n",
       " 7,\n",
       " 8,\n",
       " 9,\n",
       " 0,\n",
       " 1,\n",
       " 2,\n",
       " 3,\n",
       " 4,\n",
       " 5,\n",
       " 6,\n",
       " 7,\n",
       " 8,\n",
       " 9,\n",
       " 0,\n",
       " 1,\n",
       " 2,\n",
       " 3,\n",
       " 4,\n",
       " 5,\n",
       " 6,\n",
       " 7,\n",
       " 8,\n",
       " 9,\n",
       " 0,\n",
       " 1,\n",
       " 2,\n",
       " 3,\n",
       " 4,\n",
       " 5,\n",
       " 6,\n",
       " 7,\n",
       " 8,\n",
       " 9,\n",
       " 0,\n",
       " 1,\n",
       " 2,\n",
       " 3,\n",
       " 4,\n",
       " 5,\n",
       " 6,\n",
       " 7,\n",
       " 8,\n",
       " 9,\n",
       " 0,\n",
       " 1,\n",
       " 2,\n",
       " 3,\n",
       " 4,\n",
       " 5,\n",
       " 6,\n",
       " 7,\n",
       " 8,\n",
       " 9,\n",
       " 0,\n",
       " 1,\n",
       " 2,\n",
       " 3,\n",
       " 4,\n",
       " 5,\n",
       " 6,\n",
       " 7,\n",
       " 8,\n",
       " 9,\n",
       " 0,\n",
       " 1,\n",
       " 2,\n",
       " 3,\n",
       " 4,\n",
       " 5,\n",
       " 6,\n",
       " 7,\n",
       " 8,\n",
       " 9,\n",
       " 0,\n",
       " 1,\n",
       " 2,\n",
       " 3,\n",
       " 4,\n",
       " 5,\n",
       " 6,\n",
       " 7,\n",
       " 8,\n",
       " 9,\n",
       " 0,\n",
       " 1,\n",
       " 2,\n",
       " 3,\n",
       " 4,\n",
       " 5,\n",
       " 6,\n",
       " 7,\n",
       " 8,\n",
       " 9,\n",
       " 0,\n",
       " 1,\n",
       " 2,\n",
       " 3,\n",
       " 4,\n",
       " 5,\n",
       " 6,\n",
       " 7,\n",
       " 8,\n",
       " 9,\n",
       " 0,\n",
       " 1,\n",
       " 2,\n",
       " 3,\n",
       " 4,\n",
       " 5,\n",
       " 6,\n",
       " 7,\n",
       " 8,\n",
       " 9,\n",
       " 0,\n",
       " 1,\n",
       " 2,\n",
       " 3,\n",
       " 4,\n",
       " 5,\n",
       " 6,\n",
       " 7,\n",
       " 8,\n",
       " 9,\n",
       " 0,\n",
       " 1,\n",
       " 2,\n",
       " 3,\n",
       " 4,\n",
       " 5,\n",
       " 6,\n",
       " 7,\n",
       " 8,\n",
       " 9,\n",
       " 0,\n",
       " 1,\n",
       " 2,\n",
       " 3,\n",
       " 4,\n",
       " 5,\n",
       " 6,\n",
       " 7,\n",
       " 8,\n",
       " 9,\n",
       " 0,\n",
       " 1,\n",
       " 2,\n",
       " 3,\n",
       " 4,\n",
       " 5,\n",
       " 6,\n",
       " 7,\n",
       " 8,\n",
       " 9,\n",
       " 0,\n",
       " 1,\n",
       " 2,\n",
       " 3,\n",
       " 4,\n",
       " 5,\n",
       " 6,\n",
       " 7,\n",
       " 8,\n",
       " 9,\n",
       " 0,\n",
       " 1,\n",
       " 2,\n",
       " 3,\n",
       " 4,\n",
       " 5,\n",
       " 6,\n",
       " 7,\n",
       " 8,\n",
       " 9,\n",
       " 0,\n",
       " 1,\n",
       " 2,\n",
       " 3,\n",
       " 4,\n",
       " 5,\n",
       " 6,\n",
       " 7,\n",
       " 8,\n",
       " 9,\n",
       " 0,\n",
       " 1,\n",
       " 2,\n",
       " 3,\n",
       " 4,\n",
       " 5,\n",
       " 6,\n",
       " 7,\n",
       " 8,\n",
       " 9,\n",
       " 0,\n",
       " 1,\n",
       " 2,\n",
       " 3,\n",
       " 4,\n",
       " 5,\n",
       " 6,\n",
       " 7,\n",
       " 8,\n",
       " 9,\n",
       " 0,\n",
       " 1,\n",
       " 2,\n",
       " 3,\n",
       " 4,\n",
       " 5,\n",
       " 6,\n",
       " 7,\n",
       " 8,\n",
       " 9,\n",
       " 0,\n",
       " 1,\n",
       " 2,\n",
       " 3,\n",
       " 4,\n",
       " 5,\n",
       " 6,\n",
       " 7,\n",
       " 8,\n",
       " 9,\n",
       " 0,\n",
       " 1,\n",
       " 2,\n",
       " 3,\n",
       " 4,\n",
       " 5,\n",
       " 6,\n",
       " 7,\n",
       " 8,\n",
       " 9,\n",
       " 0,\n",
       " 1,\n",
       " 2,\n",
       " 3,\n",
       " 4,\n",
       " 5,\n",
       " 6,\n",
       " 7,\n",
       " 8,\n",
       " 9,\n",
       " 0,\n",
       " 1,\n",
       " 2,\n",
       " 3,\n",
       " 4,\n",
       " 5,\n",
       " 6,\n",
       " 7,\n",
       " 8,\n",
       " 9,\n",
       " 0,\n",
       " 1,\n",
       " 2,\n",
       " 3,\n",
       " 4,\n",
       " 5,\n",
       " 6,\n",
       " 7,\n",
       " 8,\n",
       " 9,\n",
       " 0,\n",
       " 1,\n",
       " 2,\n",
       " 3,\n",
       " 4,\n",
       " 5,\n",
       " 6,\n",
       " 7,\n",
       " 8,\n",
       " 9,\n",
       " 0,\n",
       " 1,\n",
       " 2,\n",
       " 3,\n",
       " 4,\n",
       " 5,\n",
       " 6,\n",
       " 7,\n",
       " 8,\n",
       " 9,\n",
       " 0,\n",
       " 1,\n",
       " 2,\n",
       " 3,\n",
       " 4,\n",
       " 5,\n",
       " 6,\n",
       " 7,\n",
       " 8,\n",
       " 9,\n",
       " 0,\n",
       " 1,\n",
       " 2,\n",
       " 3,\n",
       " 4,\n",
       " 5,\n",
       " 6,\n",
       " 7,\n",
       " 8,\n",
       " 9,\n",
       " 0,\n",
       " 1,\n",
       " 2,\n",
       " 3,\n",
       " 4,\n",
       " 5,\n",
       " 6,\n",
       " 7,\n",
       " 8,\n",
       " 9,\n",
       " 0,\n",
       " 1,\n",
       " 2,\n",
       " 3,\n",
       " 4,\n",
       " 5,\n",
       " 6,\n",
       " 7,\n",
       " 8,\n",
       " 9,\n",
       " 0,\n",
       " 1,\n",
       " 2,\n",
       " 3,\n",
       " 4,\n",
       " 5,\n",
       " 6,\n",
       " 7,\n",
       " 8,\n",
       " 9,\n",
       " 0,\n",
       " 1,\n",
       " 2,\n",
       " 3,\n",
       " 4,\n",
       " 5,\n",
       " 6,\n",
       " 7,\n",
       " 8,\n",
       " 9,\n",
       " 0,\n",
       " 1,\n",
       " 2,\n",
       " 3,\n",
       " 4,\n",
       " 5,\n",
       " 6,\n",
       " 7,\n",
       " 8,\n",
       " 9,\n",
       " 0,\n",
       " 1,\n",
       " 2,\n",
       " 3,\n",
       " 4,\n",
       " 5,\n",
       " 6,\n",
       " 7,\n",
       " 8,\n",
       " 9,\n",
       " 0,\n",
       " 1,\n",
       " 2,\n",
       " 3,\n",
       " 4,\n",
       " 5,\n",
       " 6,\n",
       " 7,\n",
       " 8,\n",
       " 9,\n",
       " 0,\n",
       " 1,\n",
       " 2,\n",
       " 3,\n",
       " 4,\n",
       " 5,\n",
       " 6,\n",
       " 7,\n",
       " 8,\n",
       " 9,\n",
       " 0,\n",
       " 1,\n",
       " 2,\n",
       " 3,\n",
       " 4,\n",
       " 5,\n",
       " 6,\n",
       " 7,\n",
       " 8,\n",
       " 9,\n",
       " 0,\n",
       " 1,\n",
       " 2,\n",
       " 3,\n",
       " 4,\n",
       " 5,\n",
       " 6,\n",
       " 7,\n",
       " 8,\n",
       " 9,\n",
       " 0,\n",
       " 1,\n",
       " 2,\n",
       " 3,\n",
       " 4,\n",
       " 5,\n",
       " 6,\n",
       " 7,\n",
       " 8,\n",
       " 9,\n",
       " 0,\n",
       " 1,\n",
       " 2,\n",
       " 3,\n",
       " 4,\n",
       " 5,\n",
       " 6,\n",
       " 7,\n",
       " 8,\n",
       " 9,\n",
       " 0,\n",
       " 1,\n",
       " 2,\n",
       " 3,\n",
       " 4,\n",
       " 5,\n",
       " 6,\n",
       " 7,\n",
       " 8,\n",
       " 9,\n",
       " 0,\n",
       " 1,\n",
       " 2,\n",
       " 3,\n",
       " 4,\n",
       " 5,\n",
       " 6,\n",
       " 7,\n",
       " 8,\n",
       " 9,\n",
       " 0,\n",
       " 1,\n",
       " 2,\n",
       " 3,\n",
       " 4,\n",
       " 5,\n",
       " 6,\n",
       " 7,\n",
       " 8,\n",
       " 9,\n",
       " 0,\n",
       " 1,\n",
       " 2,\n",
       " 3,\n",
       " 4,\n",
       " 5,\n",
       " 6,\n",
       " 7,\n",
       " 8,\n",
       " 9,\n",
       " 0,\n",
       " 1,\n",
       " 2,\n",
       " 3,\n",
       " 4,\n",
       " 5,\n",
       " 6,\n",
       " 7,\n",
       " 8,\n",
       " 9,\n",
       " ...]"
      ]
     },
     "execution_count": 19,
     "metadata": {},
     "output_type": "execute_result"
    }
   ],
   "source": [
    "np.set_printoptions(threshold=100)\n",
    "sorted_Y_train[mixed_ind].tolist()"
   ]
  },
  {
   "cell_type": "code",
   "execution_count": 20,
   "metadata": {
    "collapsed": true
   },
   "outputs": [],
   "source": [
    "clustered_Y_train = sorted_Y_train[mixed_ind]\n",
    "clustered_X_train = sorted_X_train[mixed_ind]"
   ]
  },
  {
   "cell_type": "markdown",
   "metadata": {},
   "source": [
    "## summary\n",
    "I have made the indices that are well clustered\n",
    "\n",
    "notice that the training data here is already formated and can be directly used for model.fit"
   ]
  },
  {
   "cell_type": "markdown",
   "metadata": {},
   "source": [
    "# compare cluster with fixed or shuffled\n",
    "\n",
    "it may be useful \n",
    "\n",
    "np.random.permutation(10)\n",
    "\n",
    "array([1, 7, 4, 3, 0, 9, 2, 5, 8, 6])"
   ]
  },
  {
   "cell_type": "code",
   "execution_count": 21,
   "metadata": {},
   "outputs": [
    {
     "data": {
      "text/plain": [
       "array([2, 3, 8, 5, 7, 0, 4, 6, 9, 1])"
      ]
     },
     "execution_count": 21,
     "metadata": {},
     "output_type": "execute_result"
    }
   ],
   "source": [
    "np.random.permutation(10)"
   ]
  },
  {
   "cell_type": "code",
   "execution_count": 22,
   "metadata": {},
   "outputs": [
    {
     "name": "stdout",
     "output_type": "stream",
     "text": [
      "clustered_x_train shape: (54210, 28, 28, 1)\n",
      "54210 train samples\n"
     ]
    }
   ],
   "source": [
    "# let us first make Y to be one hot \n",
    "num_classes = 10\n",
    "clustered_y_train = keras.utils.to_categorical(clustered_Y_train, num_classes)\n",
    "clustered_x_train = clustered_X_train\n",
    "\n",
    "# let us normalize a bit the intilization value\n",
    "\n",
    "clustered_x_train = clustered_x_train.astype('float32')\n",
    "clustered_x_train /= 255\n",
    "\n",
    "print('clustered_x_train shape:', clustered_x_train.shape)\n",
    "print(clustered_x_train.shape[0], 'train samples')\n",
    "\n"
   ]
  },
  {
   "cell_type": "code",
   "execution_count": 23,
   "metadata": {
    "collapsed": true
   },
   "outputs": [],
   "source": [
    "#let make several random shuffled dataset\n",
    "rnd_inds = [np.random.permutation(clustered_x_train.shape[0]) for i in range(20)]\n",
    "rnd_xs = [clustered_x_train[ind] for ind in rnd_inds]\n",
    "rnd_ys = [clustered_y_train[ind] for ind in rnd_inds]"
   ]
  },
  {
   "cell_type": "code",
   "execution_count": 27,
   "metadata": {},
   "outputs": [
    {
     "ename": "NameError",
     "evalue": "name 'rnd_xs' is not defined",
     "output_type": "error",
     "traceback": [
      "\u001b[0;31m---------------------------------------------------------------------------\u001b[0m",
      "\u001b[0;31mNameError\u001b[0m                                 Traceback (most recent call last)",
      "\u001b[0;32m<ipython-input-27-58fd741bcfd7>\u001b[0m in \u001b[0;36m<module>\u001b[0;34m()\u001b[0m\n\u001b[0;32m----> 1\u001b[0;31m \u001b[0;32mdel\u001b[0m \u001b[0;34m(\u001b[0m\u001b[0mrnd_xs\u001b[0m\u001b[0;34m)\u001b[0m\u001b[0;34m\u001b[0m\u001b[0m\n\u001b[0m\u001b[1;32m      2\u001b[0m \u001b[0;32mdel\u001b[0m \u001b[0;34m(\u001b[0m\u001b[0mrnd_ys\u001b[0m\u001b[0;34m)\u001b[0m\u001b[0;34m\u001b[0m\u001b[0m\n",
      "\u001b[0;31mNameError\u001b[0m: name 'rnd_xs' is not defined"
     ]
    }
   ],
   "source": [
    "del (rnd_xs)\n",
    "del (rnd_ys)"
   ]
  },
  {
   "cell_type": "code",
   "execution_count": 28,
   "metadata": {
    "collapsed": true
   },
   "outputs": [],
   "source": [
    "# we can load our model here to ensure the same inilization\n",
    "\n",
    "class LossHistory(keras.callbacks.Callback):\n",
    "    def on_train_begin(self, logs={}):\n",
    "        self.losses = logs.get(\"loss\",[])\n",
    "\n",
    "    def on_batch_end(self, batch, logs={}):\n",
    "        self.losses.append(logs.get('loss'))\n",
    "        \n",
    "def makeModel_small(input_shape):\n",
    "    # np.random.seed(2016) \n",
    "    model = Sequential()\n",
    "    model.add(Conv2D(32, kernel_size=(3, 3),\n",
    "                     activation='relu',\n",
    "                     input_shape=input_shape))\n",
    "    model.add(Flatten())\n",
    "    model.add(Dense(128, activation='relu'))\n",
    "    model.add(Dense(num_classes, activation='softmax'))\n",
    "\n",
    "\n",
    "    model.compile(loss=keras.losses.categorical_crossentropy,\n",
    "                  optimizer=keras.optimizers.SGD(lr=0.01, momentum=0.0, decay=0.0, nesterov=False),\n",
    "                  metrics=['acc'])\n",
    "    return model \n",
    "\n",
    "def makeModel_large(input_shape):\n",
    "    model = Sequential()\n",
    "    model.add(Conv2D(32, kernel_size=(3, 3),\n",
    "                 activation='relu',\n",
    "                 input_shape=input_shape))\n",
    "    model.add(MaxPooling2D(pool_size=(2, 2)))\n",
    "    model.add(Conv2D(64, (3, 3), activation='relu'))\n",
    "\n",
    "    model.add(Dropout(0.1))\n",
    "    model.add(Flatten())\n",
    "    model.add(Dense(128, activation='relu'))\n",
    "    model.add(Dropout(0.1))\n",
    "    model.add(Dense(num_classes, activation='softmax'))\n",
    "    model.compile(loss=keras.losses.categorical_crossentropy,\n",
    "                  optimizer=keras.optimizers.SGD(lr=0.01, momentum=0.0, decay=0.0, nesterov=False),\n",
    "                  metrics=['acc'])\n",
    "    return model\n",
    "\n",
    "def makeModel(input_shape):\n",
    "    return makeModel_large(input_shape)"
   ]
  },
  {
   "cell_type": "code",
   "execution_count": 25,
   "metadata": {
    "collapsed": true
   },
   "outputs": [],
   "source": [
    "# we make a large model here and save it won't run everytime\n",
    "# model = makeModel_large(input_shape)\n",
    "\n",
    "# model.save(\"complex_cnn_model.h5\")\n",
    "\n",
    "# model.save_weights(\"complex_cnn_model_weights.h5\")"
   ]
  },
  {
   "cell_type": "code",
   "execution_count": 26,
   "metadata": {},
   "outputs": [
    {
     "ename": "NameError",
     "evalue": "name 'model' is not defined",
     "output_type": "error",
     "traceback": [
      "\u001b[0;31m---------------------------------------------------------------------------\u001b[0m",
      "\u001b[0;31mNameError\u001b[0m                                 Traceback (most recent call last)",
      "\u001b[0;32m<ipython-input-26-6c1577370de2>\u001b[0m in \u001b[0;36m<module>\u001b[0;34m()\u001b[0m\n\u001b[0;32m----> 1\u001b[0;31m \u001b[0;34m[\u001b[0m \u001b[0mi\u001b[0m\u001b[0;34m.\u001b[0m\u001b[0mshape\u001b[0m \u001b[0;32mfor\u001b[0m \u001b[0mi\u001b[0m \u001b[0;32min\u001b[0m \u001b[0mmodel\u001b[0m\u001b[0;34m.\u001b[0m\u001b[0mget_weights\u001b[0m\u001b[0;34m(\u001b[0m\u001b[0;34m)\u001b[0m\u001b[0;34m]\u001b[0m\u001b[0;34m\u001b[0m\u001b[0m\n\u001b[0m",
      "\u001b[0;31mNameError\u001b[0m: name 'model' is not defined"
     ]
    }
   ],
   "source": [
    "[ i.shape for i in model.get_weights()]"
   ]
  },
  {
   "cell_type": "code",
   "execution_count": null,
   "metadata": {
    "collapsed": true
   },
   "outputs": [],
   "source": []
  },
  {
   "cell_type": "code",
   "execution_count": 29,
   "metadata": {
    "collapsed": true
   },
   "outputs": [],
   "source": [
    " \n",
    "\n",
    "def train_model(model,x_train,y_train,batch_size=50,epochs=1,weights_file = None):\n",
    "    batch_history = LossHistory()\n",
    "    model.load_weights(weights_file)\n",
    "    model_history = model.fit(x_train, y_train,\n",
    "              batch_size=batch_size,\n",
    "              epochs=epochs,\n",
    "              verbose=1,\n",
    "              shuffle = False,\n",
    "              callbacks = [batch_history])\n",
    "#     print(batch_history.losses)\n",
    "    return model_history,batch_history\n",
    "\n",
    "def train_model_large(model,x_train,y_train,batch_size=50,epochs=1):\n",
    "    return train_model(model,x_train,y_train,batch_size=batch_size,\\\n",
    "                       epochs=epochs,weights_file = \"complex_cnn_model_weights.h5\")\n",
    "def train_model_small(model,x_train,y_train,batch_size=50,epochs=1,weights_file = None):\n",
    "    return train_model(model,x_train,y_train,batch_size=batch_size,\\\n",
    "                       epochs=epochs,weights_file = 'keras_stochas_test.h5')\n",
    "   "
   ]
  },
  {
   "cell_type": "code",
   "execution_count": 30,
   "metadata": {
    "collapsed": true
   },
   "outputs": [],
   "source": [
    "model = makeModel_large(input_shape)"
   ]
  },
  {
   "cell_type": "code",
   "execution_count": 31,
   "metadata": {},
   "outputs": [
    {
     "data": {
      "text/plain": [
       "(28, 28, 1)"
      ]
     },
     "execution_count": 31,
     "metadata": {},
     "output_type": "execute_result"
    }
   ],
   "source": [
    "input_shape"
   ]
  },
  {
   "cell_type": "code",
   "execution_count": 32,
   "metadata": {
    "collapsed": true
   },
   "outputs": [],
   "source": [
    "datasize = 60000"
   ]
  },
  {
   "cell_type": "code",
   "execution_count": 33,
   "metadata": {
    "collapsed": true
   },
   "outputs": [],
   "source": [
    "epochs = 4\n",
    "batch_size = 100"
   ]
  },
  {
   "cell_type": "code",
   "execution_count": 34,
   "metadata": {
    "collapsed": true
   },
   "outputs": [],
   "source": [
    "model.compile(loss=keras.losses.categorical_crossentropy,\n",
    "                  optimizer=keras.optimizers.SGD(lr=0.1, momentum=0.0, decay=0.0, nesterov=False),\n",
    "                  metrics=['acc'])"
   ]
  },
  {
   "cell_type": "code",
   "execution_count": 184,
   "metadata": {},
   "outputs": [
    {
     "name": "stdout",
     "output_type": "stream",
     "text": [
      "Epoch 1/4\n",
      "54210/54210 [==============================] - 16s - loss: 0.3221 - acc: 0.9051    \n",
      "Epoch 2/4\n",
      "54210/54210 [==============================] - 16s - loss: 0.1044 - acc: 0.9683    \n",
      "Epoch 3/4\n",
      "54210/54210 [==============================] - 16s - loss: 0.0756 - acc: 0.9769    \n",
      "Epoch 4/4\n",
      "54210/54210 [==============================] - 16s - loss: 0.0593 - acc: 0.9819    \n"
     ]
    }
   ],
   "source": [
    "\n",
    "with tf.device('/gpu:1'):\n",
    "    clustered_model_his,clustered_batch_his = \\\n",
    "        train_model_large(model,clustered_x_train[:datasize],clustered_y_train[:datasize],\\\n",
    "                    epochs=epochs,batch_size=batch_size)"
   ]
  },
  {
   "cell_type": "code",
   "execution_count": 185,
   "metadata": {},
   "outputs": [
    {
     "name": "stdout",
     "output_type": "stream",
     "text": [
      "Epoch 1/4\n",
      "54210/54210 [==============================] - 16s - loss: 0.3279 - acc: 0.9008    \n",
      "Epoch 2/4\n",
      "54210/54210 [==============================] - 16s - loss: 0.1079 - acc: 0.9675    \n",
      "Epoch 3/4\n",
      "54210/54210 [==============================] - 16s - loss: 0.0763 - acc: 0.9766    \n",
      "Epoch 4/4\n",
      "54210/54210 [==============================] - 16s - loss: 0.0607 - acc: 0.9811    \n"
     ]
    }
   ],
   "source": [
    "perm_num = 4\n",
    "with tf.device('/gpu:1'):\n",
    "    normal_model_his,normal_batch_his = \\\n",
    "        train_model_large(model,rnd_xs[perm_num][:datasize],rnd_ys[perm_num][:datasize],\\\n",
    "                    epochs=epochs,batch_size=batch_size)"
   ]
  },
  {
   "cell_type": "code",
   "execution_count": 190,
   "metadata": {},
   "outputs": [
    {
     "name": "stdout",
     "output_type": "stream",
     "text": [
      "Epoch 1/4\n",
      "54210/54210 [==============================] - 16s - loss: 0.3296 - acc: 0.9001    \n",
      "Epoch 2/4\n",
      "54210/54210 [==============================] - 16s - loss: 0.1068 - acc: 0.9672    \n",
      "Epoch 3/4\n",
      "54210/54210 [==============================] - 16s - loss: 0.0767 - acc: 0.9771    \n",
      "Epoch 4/4\n",
      "54210/54210 [==============================] - 16s - loss: 0.0599 - acc: 0.9814    \n",
      "Epoch 1/4\n",
      "54210/54210 [==============================] - 16s - loss: 0.3327 - acc: 0.9000    \n",
      "Epoch 2/4\n",
      "54210/54210 [==============================] - 16s - loss: 0.1056 - acc: 0.9673    \n",
      "Epoch 3/4\n",
      "54210/54210 [==============================] - 16s - loss: 0.0753 - acc: 0.9763    \n",
      "Epoch 4/4\n",
      "54210/54210 [==============================] - 16s - loss: 0.0586 - acc: 0.9816    \n",
      "Epoch 1/4\n",
      "54210/54210 [==============================] - 16s - loss: 0.3304 - acc: 0.9010    \n",
      "Epoch 2/4\n",
      "54210/54210 [==============================] - 16s - loss: 0.1094 - acc: 0.9667    \n",
      "Epoch 3/4\n",
      "54210/54210 [==============================] - 16s - loss: 0.0775 - acc: 0.9764    \n",
      "Epoch 4/4\n",
      "54210/54210 [==============================] - 16s - loss: 0.0602 - acc: 0.9815    \n",
      "Epoch 1/4\n",
      "54210/54210 [==============================] - 16s - loss: 0.3335 - acc: 0.8983    \n",
      "Epoch 2/4\n",
      "54210/54210 [==============================] - 16s - loss: 0.1090 - acc: 0.9666    \n",
      "Epoch 3/4\n",
      "54210/54210 [==============================] - 16s - loss: 0.0778 - acc: 0.9771    \n",
      "Epoch 4/4\n",
      "54210/54210 [==============================] - 16s - loss: 0.0603 - acc: 0.9810    \n",
      "Epoch 1/4\n",
      "54210/54210 [==============================] - 16s - loss: 0.3332 - acc: 0.8990    \n",
      "Epoch 2/4\n",
      "54210/54210 [==============================] - 16s - loss: 0.1084 - acc: 0.9667    \n",
      "Epoch 3/4\n",
      "54210/54210 [==============================] - 16s - loss: 0.0751 - acc: 0.9777    \n",
      "Epoch 4/4\n",
      "54210/54210 [==============================] - 16s - loss: 0.0593 - acc: 0.9815    \n",
      "Epoch 1/4\n",
      "54210/54210 [==============================] - 16s - loss: 0.3278 - acc: 0.8999    \n",
      "Epoch 2/4\n",
      "54210/54210 [==============================] - 16s - loss: 0.1084 - acc: 0.9672    \n",
      "Epoch 3/4\n",
      "54210/54210 [==============================] - 16s - loss: 0.0774 - acc: 0.9766    \n",
      "Epoch 4/4\n",
      "54210/54210 [==============================] - 16s - loss: 0.0588 - acc: 0.9816    \n",
      "Epoch 1/4\n",
      "54210/54210 [==============================] - 16s - loss: 0.3276 - acc: 0.8997    \n",
      "Epoch 2/4\n",
      "54210/54210 [==============================] - 16s - loss: 0.1062 - acc: 0.9674    \n",
      "Epoch 3/4\n",
      "54210/54210 [==============================] - 16s - loss: 0.0755 - acc: 0.9768    \n",
      "Epoch 4/4\n",
      "54210/54210 [==============================] - 16s - loss: 0.0590 - acc: 0.9825    \n",
      "Epoch 1/4\n",
      "54210/54210 [==============================] - 16s - loss: 0.3339 - acc: 0.8994    \n",
      "Epoch 2/4\n",
      "54210/54210 [==============================] - 16s - loss: 0.1070 - acc: 0.9676    \n",
      "Epoch 3/4\n",
      "54210/54210 [==============================] - 16s - loss: 0.0762 - acc: 0.9764    \n",
      "Epoch 4/4\n",
      "54210/54210 [==============================] - 16s - loss: 0.0599 - acc: 0.9816    \n",
      "Epoch 1/4\n",
      "54210/54210 [==============================] - 16s - loss: 0.3316 - acc: 0.9010    \n",
      "Epoch 2/4\n",
      "54210/54210 [==============================] - 16s - loss: 0.1062 - acc: 0.9674    \n",
      "Epoch 3/4\n",
      "54210/54210 [==============================] - 16s - loss: 0.0753 - acc: 0.9773    \n",
      "Epoch 4/4\n",
      "54210/54210 [==============================] - 16s - loss: 0.0598 - acc: 0.9814    \n",
      "Epoch 1/4\n",
      "54210/54210 [==============================] - 16s - loss: 0.3285 - acc: 0.9006    \n",
      "Epoch 2/4\n",
      "54210/54210 [==============================] - 16s - loss: 0.1073 - acc: 0.9676    \n",
      "Epoch 3/4\n",
      "54210/54210 [==============================] - 16s - loss: 0.0769 - acc: 0.9770    \n",
      "Epoch 4/4\n",
      "54210/54210 [==============================] - 16s - loss: 0.0590 - acc: 0.9823    \n",
      "Epoch 1/4\n",
      "54210/54210 [==============================] - 16s - loss: 0.3334 - acc: 0.8981    \n",
      "Epoch 2/4\n",
      "54210/54210 [==============================] - 16s - loss: 0.1078 - acc: 0.9673    \n",
      "Epoch 3/4\n",
      "54210/54210 [==============================] - 16s - loss: 0.0779 - acc: 0.9763    \n",
      "Epoch 4/4\n",
      "54210/54210 [==============================] - 16s - loss: 0.0607 - acc: 0.9813    \n",
      "Epoch 1/4\n",
      "54210/54210 [==============================] - 16s - loss: 0.3287 - acc: 0.9004    \n",
      "Epoch 2/4\n",
      "54210/54210 [==============================] - 16s - loss: 0.1074 - acc: 0.9668    \n",
      "Epoch 3/4\n",
      "54210/54210 [==============================] - 16s - loss: 0.0758 - acc: 0.9768    \n",
      "Epoch 4/4\n",
      "54210/54210 [==============================] - 16s - loss: 0.0593 - acc: 0.9819    \n",
      "Epoch 1/4\n",
      "54210/54210 [==============================] - 16s - loss: 0.3325 - acc: 0.8983    \n",
      "Epoch 2/4\n",
      "54210/54210 [==============================] - 16s - loss: 0.1064 - acc: 0.9671    \n",
      "Epoch 3/4\n",
      "54210/54210 [==============================] - 16s - loss: 0.0769 - acc: 0.9763    \n",
      "Epoch 4/4\n",
      "54210/54210 [==============================] - 16s - loss: 0.0592 - acc: 0.9819    \n",
      "Epoch 1/4\n",
      "54210/54210 [==============================] - 16s - loss: 0.3341 - acc: 0.8991    \n",
      "Epoch 2/4\n",
      "54210/54210 [==============================] - 16s - loss: 0.1064 - acc: 0.9676    \n",
      "Epoch 3/4\n",
      "54210/54210 [==============================] - 16s - loss: 0.0761 - acc: 0.9766    \n",
      "Epoch 4/4\n",
      "54210/54210 [==============================] - 16s - loss: 0.0579 - acc: 0.9821    \n",
      "Epoch 1/4\n",
      "54210/54210 [==============================] - 16s - loss: 0.3297 - acc: 0.9001    \n",
      "Epoch 2/4\n",
      "54210/54210 [==============================] - 16s - loss: 0.1080 - acc: 0.9661    \n",
      "Epoch 3/4\n",
      "54210/54210 [==============================] - 16s - loss: 0.0771 - acc: 0.9766    \n",
      "Epoch 4/4\n",
      "54210/54210 [==============================] - 16s - loss: 0.0587 - acc: 0.9816    \n",
      "Epoch 1/4\n",
      "54210/54210 [==============================] - 16s - loss: 0.3301 - acc: 0.8993    \n",
      "Epoch 2/4\n",
      "54210/54210 [==============================] - 16s - loss: 0.1066 - acc: 0.9683    \n",
      "Epoch 3/4\n",
      "54210/54210 [==============================] - 16s - loss: 0.0752 - acc: 0.9768    \n",
      "Epoch 4/4\n",
      "54210/54210 [==============================] - 16s - loss: 0.0586 - acc: 0.9825    \n",
      "Epoch 1/4\n",
      "54210/54210 [==============================] - 16s - loss: 0.3351 - acc: 0.8992    \n",
      "Epoch 2/4\n",
      "54210/54210 [==============================] - 16s - loss: 0.1088 - acc: 0.9672    \n",
      "Epoch 3/4\n",
      "54210/54210 [==============================] - 16s - loss: 0.0767 - acc: 0.9764    \n",
      "Epoch 4/4\n",
      "54210/54210 [==============================] - 16s - loss: 0.0593 - acc: 0.9812    \n",
      "Epoch 1/4\n",
      "54210/54210 [==============================] - 16s - loss: 0.3297 - acc: 0.9009    \n",
      "Epoch 2/4\n",
      "54210/54210 [==============================] - 16s - loss: 0.1084 - acc: 0.9663    \n",
      "Epoch 3/4\n",
      "54210/54210 [==============================] - 16s - loss: 0.0772 - acc: 0.9764    \n",
      "Epoch 4/4\n",
      "54210/54210 [==============================] - 16s - loss: 0.0602 - acc: 0.9816    \n",
      "Epoch 1/4\n",
      "54210/54210 [==============================] - 16s - loss: 0.3289 - acc: 0.8995    \n",
      "Epoch 2/4\n",
      "54210/54210 [==============================] - 16s - loss: 0.1080 - acc: 0.9667    \n",
      "Epoch 3/4\n",
      "54210/54210 [==============================] - 16s - loss: 0.0766 - acc: 0.9758    \n",
      "Epoch 4/4\n",
      "54210/54210 [==============================] - 16s - loss: 0.0576 - acc: 0.9821    \n",
      "Epoch 1/4\n",
      "54210/54210 [==============================] - 16s - loss: 0.3290 - acc: 0.9001    \n",
      "Epoch 2/4\n",
      "54210/54210 [==============================] - 16s - loss: 0.1074 - acc: 0.9673    \n",
      "Epoch 3/4\n",
      "54210/54210 [==============================] - 16s - loss: 0.0761 - acc: 0.9767    \n",
      "Epoch 4/4\n",
      "54210/54210 [==============================] - 16s - loss: 0.0602 - acc: 0.9811    \n"
     ]
    }
   ],
   "source": [
    "normal_batch_hises = []\n",
    "for perm_num_num in range(20):\n",
    "    with tf.device('/gpu:1'):\n",
    "        normal_model_his,normal_batch_his = \\\n",
    "            train_model_large(model,rnd_xs[perm_num][:datasize],rnd_ys[perm_num][:datasize],\\\n",
    "                        epochs=epochs,batch_size=batch_size)\n",
    "        normal_batch_hises.append(normal_batch_his)"
   ]
  },
  {
   "cell_type": "code",
   "execution_count": 35,
   "metadata": {
    "collapsed": true
   },
   "outputs": [],
   "source": [
    "def runningMeanFast(x, N):\n",
    "    return np.convolve(x, np.ones((N,))/N)[(N-1):]"
   ]
  },
  {
   "cell_type": "code",
   "execution_count": 200,
   "metadata": {},
   "outputs": [
    {
     "data": {
      "image/png": "[encoded data removed]",
      "text/plain": [
       "<matplotlib.figure.Figure at 0x7fb980320890>"
      ]
     },
     "metadata": {},
     "output_type": "display_data"
    }
   ],
   "source": [
    "\n",
    "start=400\n",
    "end  = 10000\n",
    "window = 300\n",
    "clus_plot = runningMeanFast(clustered_batch_his.losses[start:end],window)\n",
    "norm_plot = runningMeanFast(normal_batch_his.losses[start:end],window)\n",
    "plt.plot(clus_plot, label = \"clus_loss\")\n",
    "plt.plot(norm_plot, label= \"normal_loss\")\n",
    "plt.legend()\n",
    "plt.savefig('Keras_deep_cmpGradient_epo'+str(epochs)+'_batsiz'+str(batch_size)+'.png')"
   ]
  },
  {
   "cell_type": "code",
   "execution_count": 172,
   "metadata": {},
   "outputs": [
    {
     "data": {
      "text/plain": [
       "0.082280375"
      ]
     },
     "execution_count": 172,
     "metadata": {},
     "output_type": "execute_result"
    }
   ],
   "source": [
    "np.var(clustered_batch_his.losses[start:end])"
   ]
  },
  {
   "cell_type": "code",
   "execution_count": 173,
   "metadata": {},
   "outputs": [
    {
     "data": {
      "text/plain": [
       "0.090038016"
      ]
     },
     "execution_count": 173,
     "metadata": {},
     "output_type": "execute_result"
    }
   ],
   "source": [
    "np.var(normal_batch_his.losses[start:end])"
   ]
  },
  {
   "cell_type": "code",
   "execution_count": 149,
   "metadata": {},
   "outputs": [
    {
     "data": {
      "text/plain": [
       "60"
      ]
     },
     "execution_count": 149,
     "metadata": {},
     "output_type": "execute_result"
    }
   ],
   "source": [
    "len(clustered_batch_his.losses)"
   ]
  },
  {
   "cell_type": "code",
   "execution_count": null,
   "metadata": {
    "collapsed": true
   },
   "outputs": [],
   "source": [
    "model."
   ]
  },
  {
   "cell_type": "code",
   "execution_count": null,
   "metadata": {
    "collapsed": true
   },
   "outputs": [],
   "source": [
    "model.get_weights()"
   ]
  },
  {
   "cell_type": "code",
   "execution_count": 191,
   "metadata": {},
   "outputs": [
    {
     "data": {
      "text/plain": [
       "1"
      ]
     },
     "execution_count": 191,
     "metadata": {},
     "output_type": "execute_result"
    }
   ],
   "source": [
    "1"
   ]
  },
  {
   "cell_type": "code",
   "execution_count": 197,
   "metadata": {},
   "outputs": [
    {
     "data": {
      "text/plain": [
       "0.04575412"
      ]
     },
     "execution_count": 197,
     "metadata": {},
     "output_type": "execute_result"
    }
   ],
   "source": [
    "np.mean([np.mean(i.losses[-10:]) for i in normal_batch_hises])"
   ]
  },
  {
   "cell_type": "code",
   "execution_count": 196,
   "metadata": {},
   "outputs": [
    {
     "data": {
      "text/plain": [
       "0.054629546"
      ]
     },
     "execution_count": 196,
     "metadata": {},
     "output_type": "execute_result"
    }
   ],
   "source": [
    "np.mean(clustered_batch_his.losses[-10:])"
   ]
  },
  {
   "cell_type": "code",
   "execution_count": 207,
   "metadata": {
    "collapsed": true
   },
   "outputs": [],
   "source": [
    "# np.save(\"losses_of_20_rand_normal\",[i.losses for i in normal_batch_hises])"
   ]
  },
  {
   "cell_type": "code",
   "execution_count": 36,
   "metadata": {
    "collapsed": true
   },
   "outputs": [],
   "source": [
    "normal_batch_hises = np.load(\"losses_of_20_rand_normal.npy\")"
   ]
  },
  {
   "cell_type": "code",
   "execution_count": 37,
   "metadata": {},
   "outputs": [
    {
     "data": {
      "image/png": "[encoded data removed]",
      "text/plain": [
       "<matplotlib.figure.Figure at 0x7f3e3c473a90>"
      ]
     },
     "metadata": {},
     "output_type": "display_data"
    }
   ],
   "source": [
    "start=400\n",
    "end  = 10000\n",
    "window = 20\n",
    "for i in range(20):\n",
    "    plt.plot(runningMeanFast(normal_batch_hises[i][start:end],window),color = \"red\", label= \"normal_loss \"+str(i))\n",
    "# plt.legend()\n",
    "plt.savefig('Keras_deep_cmpGradient_bunchofnormal.png')"
   ]
  },
  {
   "cell_type": "code",
   "execution_count": 38,
   "metadata": {},
   "outputs": [
    {
     "data": {
      "text/plain": [
       "['Activation',\n",
       " 'Conv2D',\n",
       " 'Dense',\n",
       " 'Dropout',\n",
       " 'Flatten',\n",
       " 'K',\n",
       " 'LossHistory',\n",
       " 'MaxPooling2D',\n",
       " 'Sequential',\n",
       " 'batch_size',\n",
       " 'clustered_X_train',\n",
       " 'clustered_Y_train',\n",
       " 'clustered_x_train',\n",
       " 'clustered_y_train',\n",
       " 'counts',\n",
       " 'datasize',\n",
       " 'end',\n",
       " 'epochs',\n",
       " 'i',\n",
       " 'img_cols',\n",
       " 'img_rows',\n",
       " 'ind',\n",
       " 'ind1',\n",
       " 'input_shape',\n",
       " 'join',\n",
       " 'keras',\n",
       " 'listOfIndOfNum',\n",
       " 'makeModel',\n",
       " 'makeModel_large',\n",
       " 'makeModel_small',\n",
       " 'matplotlib',\n",
       " 'mixed_ind',\n",
       " 'mnist',\n",
       " 'model',\n",
       " 'normal_batch_hises',\n",
       " 'np',\n",
       " 'num_classes',\n",
       " 'num_each',\n",
       " 'plt',\n",
       " 'print_function',\n",
       " 'rnd_inds',\n",
       " 'rnd_ys',\n",
       " 'runningMeanFast',\n",
       " 'sorted_X_train',\n",
       " 'sorted_Y_train',\n",
       " 'start',\n",
       " 'tf',\n",
       " 'train_model',\n",
       " 'train_model_large',\n",
       " 'train_model_small',\n",
       " 'unique',\n",
       " 'window',\n",
       " 'x_test',\n",
       " 'x_train',\n",
       " 'y_test',\n",
       " 'y_train']"
      ]
     },
     "execution_count": 38,
     "metadata": {},
     "output_type": "execute_result"
    }
   ],
   "source": [
    "who_ls"
   ]
  },
  {
   "cell_type": "code",
   "execution_count": 43,
   "metadata": {
    "collapsed": true
   },
   "outputs": [],
   "source": [
    "# ?reset_selective -f a"
   ]
  },
  {
   "cell_type": "code",
   "execution_count": 39,
   "metadata": {
    "collapsed": true
   },
   "outputs": [],
   "source": [
    "def cluster_shuffle(partitions):\n",
    "    num_part = len(partitions)\n",
    "    size_part = min([len(i) for i in partitions])\n",
    "#     print(num_part)\n",
    "#     print(size_part)\n",
    "    shuffled_inds = [ np.random.permutation(size_part) for i in range(num_part)]\n",
    "#     print (shuffled_inds)\n",
    "    return [part[inds] for part,inds in zip(partitions,shuffled_inds)]\n"
   ]
  },
  {
   "cell_type": "code",
   "execution_count": 40,
   "metadata": {
    "collapsed": true,
    "scrolled": true
   },
   "outputs": [],
   "source": [
    "#let make several random shuffled dataset\n",
    "clustered_rnd_inds = [join(cluster_shuffle(listOfIndOfNum)) for i in range(20)]\n"
   ]
  },
  {
   "cell_type": "code",
   "execution_count": 42,
   "metadata": {},
   "outputs": [],
   "source": [
    "#they come from raw , so we need some processing\n",
    "# let us make a formated version of the sorted\n",
    "formatted_sorted_X_train = sorted_X_train.astype(\"float32\")\n",
    "formatted_sorted_X_train /=255"
   ]
  },
  {
   "cell_type": "code",
   "execution_count": 43,
   "metadata": {
    "collapsed": true
   },
   "outputs": [],
   "source": [
    "\n",
    "num_classes = 10\n",
    "formatted_sorted_Y_train = keras.utils.to_categorical(sorted_Y_train,num_classes)"
   ]
  },
  {
   "cell_type": "code",
   "execution_count": 44,
   "metadata": {
    "collapsed": true
   },
   "outputs": [],
   "source": [
    "clustered_rnd_xs = [formatted_sorted_X_train[ind] for ind in clustered_rnd_inds]\n",
    "clustered_rnd_ys = [formatted_sorted_Y_train[ind] for ind in clustered_rnd_inds]"
   ]
  },
  {
   "cell_type": "code",
   "execution_count": null,
   "metadata": {
    "collapsed": true
   },
   "outputs": [],
   "source": [
    "\n"
   ]
  },
  {
   "cell_type": "code",
   "execution_count": null,
   "metadata": {},
   "outputs": [],
   "source": []
  },
  {
   "cell_type": "code",
   "execution_count": 47,
   "metadata": {},
   "outputs": [
    {
     "name": "stdout",
     "output_type": "stream",
     "text": [
      "Epoch 1/4\n",
      "54210/54210 [==============================] - 16s - loss: 0.3105 - acc: 0.9069    \n",
      "Epoch 2/4\n",
      "54210/54210 [==============================] - 16s - loss: 0.1015 - acc: 0.9688    \n",
      "Epoch 3/4\n",
      "54210/54210 [==============================] - 16s - loss: 0.0732 - acc: 0.9776    \n",
      "Epoch 4/4\n",
      "54210/54210 [==============================] - 16s - loss: 0.0557 - acc: 0.9830    \n",
      "Epoch 1/4\n",
      "54210/54210 [==============================] - 16s - loss: 0.3129 - acc: 0.9063    \n",
      "Epoch 2/4\n",
      "54210/54210 [==============================] - 16s - loss: 0.1031 - acc: 0.9690    \n",
      "Epoch 3/4\n",
      "54210/54210 [==============================] - 16s - loss: 0.0735 - acc: 0.9768    \n",
      "Epoch 4/4\n",
      "54210/54210 [==============================] - 16s - loss: 0.0572 - acc: 0.9825    \n",
      "Epoch 1/4\n",
      "54210/54210 [==============================] - 16s - loss: 0.3152 - acc: 0.9056    \n",
      "Epoch 2/4\n",
      "54210/54210 [==============================] - 16s - loss: 0.1047 - acc: 0.9676    \n",
      "Epoch 3/4\n",
      "54210/54210 [==============================] - 16s - loss: 0.0746 - acc: 0.9767    \n",
      "Epoch 4/4\n",
      "54210/54210 [==============================] - 16s - loss: 0.0580 - acc: 0.9818    \n",
      "Epoch 1/4\n",
      "54210/54210 [==============================] - 16s - loss: 0.3066 - acc: 0.9088    \n",
      "Epoch 2/4\n",
      "54210/54210 [==============================] - 16s - loss: 0.1036 - acc: 0.9680    \n",
      "Epoch 3/4\n",
      "54210/54210 [==============================] - 16s - loss: 0.0719 - acc: 0.9782    \n",
      "Epoch 4/4\n",
      "54210/54210 [==============================] - 16s - loss: 0.0578 - acc: 0.9820    \n",
      "Epoch 1/4\n",
      "54210/54210 [==============================] - 16s - loss: 0.3178 - acc: 0.9047    \n",
      "Epoch 2/4\n",
      "54210/54210 [==============================] - 16s - loss: 0.1074 - acc: 0.9671    \n",
      "Epoch 3/4\n",
      "54210/54210 [==============================] - 16s - loss: 0.0746 - acc: 0.9774    \n",
      "Epoch 4/4\n",
      "54210/54210 [==============================] - 16s - loss: 0.0586 - acc: 0.9817    \n",
      "Epoch 1/4\n",
      "54210/54210 [==============================] - 16s - loss: 0.3133 - acc: 0.9066    \n",
      "Epoch 2/4\n",
      "54210/54210 [==============================] - 16s - loss: 0.1052 - acc: 0.9685    \n",
      "Epoch 3/4\n",
      "54210/54210 [==============================] - 16s - loss: 0.0741 - acc: 0.9776    \n",
      "Epoch 4/4\n",
      "54210/54210 [==============================] - 16s - loss: 0.0574 - acc: 0.9821    \n",
      "Epoch 1/4\n",
      "54210/54210 [==============================] - 16s - loss: 0.3191 - acc: 0.9049    \n",
      "Epoch 2/4\n",
      "54210/54210 [==============================] - 16s - loss: 0.1075 - acc: 0.9674    \n",
      "Epoch 3/4\n",
      "54210/54210 [==============================] - 16s - loss: 0.0766 - acc: 0.9763    \n",
      "Epoch 4/4\n",
      "54210/54210 [==============================] - 16s - loss: 0.0599 - acc: 0.9817    \n",
      "Epoch 1/4\n",
      "54210/54210 [==============================] - 16s - loss: 0.3093 - acc: 0.9067    \n",
      "Epoch 2/4\n",
      "54210/54210 [==============================] - 16s - loss: 0.1031 - acc: 0.9691    \n",
      "Epoch 3/4\n",
      "54210/54210 [==============================] - 16s - loss: 0.0744 - acc: 0.9765    \n",
      "Epoch 4/4\n",
      "54210/54210 [==============================] - 16s - loss: 0.0576 - acc: 0.9816    \n",
      "Epoch 1/4\n",
      "54210/54210 [==============================] - 16s - loss: 0.3149 - acc: 0.9057    \n",
      "Epoch 2/4\n",
      "54210/54210 [==============================] - 16s - loss: 0.1056 - acc: 0.9685    \n",
      "Epoch 3/4\n",
      "54210/54210 [==============================] - 16s - loss: 0.0765 - acc: 0.9762    \n",
      "Epoch 4/4\n",
      "54210/54210 [==============================] - 16s - loss: 0.0575 - acc: 0.9819    \n",
      "Epoch 1/4\n",
      "54210/54210 [==============================] - 16s - loss: 0.3124 - acc: 0.9074    \n",
      "Epoch 2/4\n",
      "54210/54210 [==============================] - 16s - loss: 0.1023 - acc: 0.9691    \n",
      "Epoch 3/4\n",
      "54210/54210 [==============================] - 16s - loss: 0.0746 - acc: 0.9765    \n",
      "Epoch 4/4\n",
      "54210/54210 [==============================] - 15s - loss: 0.0560 - acc: 0.9825    \n",
      "Epoch 1/4\n",
      "54210/54210 [==============================] - 14s - loss: 0.3102 - acc: 0.9059    \n",
      "Epoch 2/4\n",
      "54210/54210 [==============================] - 14s - loss: 0.1030 - acc: 0.9688    \n",
      "Epoch 3/4\n",
      "54210/54210 [==============================] - 14s - loss: 0.0742 - acc: 0.9770    \n",
      "Epoch 4/4\n",
      "54210/54210 [==============================] - 14s - loss: 0.0576 - acc: 0.9821    \n",
      "Epoch 1/4\n",
      "54210/54210 [==============================] - 16s - loss: 0.3098 - acc: 0.9078    \n",
      "Epoch 2/4\n",
      "54210/54210 [==============================] - 16s - loss: 0.1046 - acc: 0.9678    \n",
      "Epoch 3/4\n",
      "54210/54210 [==============================] - 15s - loss: 0.0738 - acc: 0.9769    \n",
      "Epoch 4/4\n",
      "54210/54210 [==============================] - 14s - loss: 0.0563 - acc: 0.9827    \n",
      "Epoch 1/4\n",
      "54210/54210 [==============================] - 14s - loss: 0.3108 - acc: 0.9068    \n",
      "Epoch 2/4\n",
      "54210/54210 [==============================] - 14s - loss: 0.1048 - acc: 0.9673    \n",
      "Epoch 3/4\n",
      "54210/54210 [==============================] - 16s - loss: 0.0744 - acc: 0.9773    \n",
      "Epoch 4/4\n",
      "54210/54210 [==============================] - 16s - loss: 0.0573 - acc: 0.9823    \n",
      "Epoch 1/4\n",
      "54210/54210 [==============================] - 16s - loss: 0.3093 - acc: 0.9076    \n",
      "Epoch 2/4\n",
      "54210/54210 [==============================] - 16s - loss: 0.1034 - acc: 0.9683    \n",
      "Epoch 3/4\n",
      "54210/54210 [==============================] - 16s - loss: 0.0735 - acc: 0.9773    \n",
      "Epoch 4/4\n",
      "54210/54210 [==============================] - 16s - loss: 0.0580 - acc: 0.9824    \n",
      "Epoch 1/4\n",
      "54210/54210 [==============================] - 16s - loss: 0.3104 - acc: 0.9062    \n",
      "Epoch 2/4\n",
      "54210/54210 [==============================] - 16s - loss: 0.1031 - acc: 0.9677    \n",
      "Epoch 3/4\n",
      "54210/54210 [==============================] - 16s - loss: 0.0747 - acc: 0.9766    \n",
      "Epoch 4/4\n",
      "54210/54210 [==============================] - 16s - loss: 0.0579 - acc: 0.9817    \n",
      "Epoch 1/4\n",
      "54210/54210 [==============================] - 16s - loss: 0.3116 - acc: 0.9066    \n",
      "Epoch 2/4\n",
      "54210/54210 [==============================] - 16s - loss: 0.1044 - acc: 0.9671    \n",
      "Epoch 3/4\n",
      "54210/54210 [==============================] - 16s - loss: 0.0736 - acc: 0.9772    \n",
      "Epoch 4/4\n",
      "54210/54210 [==============================] - 16s - loss: 0.0573 - acc: 0.9818    \n",
      "Epoch 1/4\n",
      "54210/54210 [==============================] - 16s - loss: 0.3126 - acc: 0.9069    - ETA: 1s - loss:\n",
      "Epoch 2/4\n",
      "54210/54210 [==============================] - 16s - loss: 0.1020 - acc: 0.9685    \n",
      "Epoch 3/4\n",
      "54210/54210 [==============================] - 16s - loss: 0.0733 - acc: 0.9775    \n",
      "Epoch 4/4\n",
      "54210/54210 [==============================] - 16s - loss: 0.0571 - acc: 0.9825    \n",
      "Epoch 1/4\n",
      "54210/54210 [==============================] - 16s - loss: 0.3108 - acc: 0.9068    \n",
      "Epoch 2/4\n",
      "54210/54210 [==============================] - 16s - loss: 0.1033 - acc: 0.9686    \n",
      "Epoch 3/4\n",
      "54210/54210 [==============================] - 16s - loss: 0.0723 - acc: 0.9785    \n",
      "Epoch 4/4\n",
      "54210/54210 [==============================] - 16s - loss: 0.0571 - acc: 0.9828    \n",
      "Epoch 1/4\n",
      "54210/54210 [==============================] - 16s - loss: 0.3201 - acc: 0.9056    \n",
      "Epoch 2/4\n",
      "54210/54210 [==============================] - 16s - loss: 0.1068 - acc: 0.9683    \n",
      "Epoch 3/4\n",
      "54210/54210 [==============================] - 16s - loss: 0.0749 - acc: 0.9768    \n",
      "Epoch 4/4\n",
      "54210/54210 [==============================] - 16s - loss: 0.0581 - acc: 0.9824    \n",
      "Epoch 1/4\n",
      "54210/54210 [==============================] - 16s - loss: 0.3156 - acc: 0.9068    \n",
      "Epoch 2/4\n",
      "54210/54210 [==============================] - 16s - loss: 0.1052 - acc: 0.9686    \n",
      "Epoch 3/4\n",
      "54210/54210 [==============================] - 16s - loss: 0.0738 - acc: 0.9778    \n",
      "Epoch 4/4\n",
      "54210/54210 [==============================] - 16s - loss: 0.0585 - acc: 0.9816    \n"
     ]
    }
   ],
   "source": [
    "clustered_batch_hises = []\n",
    "for perm_num in range(20):\n",
    "    with tf.device('/gpu:1'):\n",
    "        clustered_model_his,clutered_batch_his = \\\n",
    "            train_model_large(model,clustered_rnd_xs[perm_num][:datasize],clustered_rnd_ys[perm_num][:datasize],\\\n",
    "                        epochs=epochs,batch_size=batch_size)\n",
    "        clustered_batch_hises.append(clutered_batch_his)"
   ]
  },
  {
   "cell_type": "markdown",
   "metadata": {},
   "source": [
    "# "
   ]
  },
  {
   "cell_type": "code",
   "execution_count": 267,
   "metadata": {},
   "outputs": [
    {
     "data": {
      "text/plain": [
       "(54210, 28, 28, 1)"
      ]
     },
     "execution_count": 267,
     "metadata": {},
     "output_type": "execute_result"
    }
   ],
   "source": [
    "raw_clustered_rnd_xs[8].shape "
   ]
  },
  {
   "cell_type": "code",
   "execution_count": null,
   "metadata": {
    "collapsed": true
   },
   "outputs": [],
   "source": [
    "np.array(clustered_rnd_xs).shape"
   ]
  },
  {
   "cell_type": "code",
   "execution_count": 48,
   "metadata": {},
   "outputs": [
    {
     "data": {
      "text/plain": [
       "1"
      ]
     },
     "execution_count": 48,
     "metadata": {},
     "output_type": "execute_result"
    }
   ],
   "source": [
    "1"
   ]
  },
  {
   "cell_type": "code",
   "execution_count": 57,
   "metadata": {},
   "outputs": [
    {
     "data": {
      "image/png": "[encoded data removed]",
      "text/plain": [
       "<matplotlib.figure.Figure at 0x7f3c7803df90>"
      ]
     },
     "metadata": {},
     "output_type": "display_data"
    }
   ],
   "source": [
    "start=0\n",
    "end  = 10000\n",
    "window = 100\n",
    "for i in range(20):\n",
    "    plt.plot(runningMeanFast(normal_batch_hises[i][start:end],window),color = \"red\", label= \"normal_loss\"+str(i))\n",
    "    plt.plot(runningMeanFast(clustered_batch_hises[i].losses[start:end],window),color=\"blue\", label = \"clustered\")\n",
    "# plt.legend()\n",
    "plt.savefig('Keras_deep_cmpGradient_bunchofnormal.png')"
   ]
  },
  {
   "cell_type": "code",
   "execution_count": null,
   "metadata": {
    "collapsed": true
   },
   "outputs": [],
   "source": []
  }
 ],
 "metadata": {
  "kernelspec": {
   "display_name": "Python 2",
   "language": "python",
   "name": "python2"
  },
  "language_info": {
   "codemirror_mode": {
    "name": "ipython",
    "version": 2
   },
   "file_extension": ".py",
   "mimetype": "text/x-python",
   "name": "python",
   "nbconvert_exporter": "python",
   "pygments_lexer": "ipython2",
   "version": "2.7.12"
  }
 },
 "nbformat": 4,
 "nbformat_minor": 2
}
